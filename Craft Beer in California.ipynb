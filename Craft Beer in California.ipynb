{
 "cells": [
  {
   "cell_type": "markdown",
   "metadata": {},
   "source": [
    "# Using Pandas and PixieDust to explore canned craft beer in California\n",
    "\n",
    "After exploring some (canned) craft beer data I found [here](https://www.kaggle.com/nickhould/craft-cans), I wanted to go one step further and enrich it with geographical data and map it out since I'd never tried to do so before.  However, I was thrown off by the complexity of all the Python mapping tutorials I had come across, so I looked into [PixieDust](https://ibm-cds-labs.github.io/pixiedust/) for a simpler solution.  Not only was I able to put together a nice-looking map with a few clicks, but I realized I was able to do all the graphing (à la Matplotlib) I needed to do to learn some cool things about the dataset, including:\n",
    "\n",
    "- Does higher IBU correlate with higher ABV?\n",
    "- Which city in California brews the hoppiest/most alcoholic beer?\n",
    "- Does geographical region (Northern vs Southern California) affect the type of beer a brewery chooses to brew?\n",
    "- Does geographical region correspond to IBU/ABV?\n",
    "\n",
    "With the insights above, we could plan a craft brewery tour in California (e.g. if we wanted to go to many breweries within one region, or if we wanted to try a wide variety of beers within one city).  If we were really indecisive, then we could use the Yelp API to pull brewery review data and simply map out where the best-reviewed breweries are (code is below as well).\n",
    "\n",
    "PixieDust is still a very recent tool so there are still a few things which I'd like to be able to do, but I love how easy it is to generate visualizations and learn interesting things from my data.\n",
    "\n",
    "In this notebook, we'll use Pandas to clean and combine the initial datasets, and [geopy](https://github.com/geopy/geopy) to add some geographical information to the data.  We'll then convert the Pandas dataframe to a Spark dataframe so we can visualize it with PixieDust.  As an optional step, we'll use the Yelp API to add brewery reviews to the data."
   ]
  },
  {
   "cell_type": "code",
   "execution_count": 1,
   "metadata": {
    "collapsed": true
   },
   "outputs": [],
   "source": [
    "import pandas as pd\n",
    "import numpy as np\n",
    "\n",
    "# data from https://www.kaggle.com/nickhould/craft-cans (scraped from CraftCans.com in January 2017)\n",
    "beers = pd.read_csv(\"beers.csv\",encoding='utf-8')\n",
    "breweries = pd.read_csv(\"breweries.csv\",encoding='utf-8')\n",
    "\n",
    "# remove redundant column, rename columns for clarity\n",
    "beers = beers.drop('Unnamed: 0',axis=1)\n",
    "breweries = breweries.rename(columns = {'Unnamed: 0': 'brewery_id', 'name': 'brewery_name'})\n",
    "\n",
    "# merge dataframes, remove NaN values, make ABV more readable, remove leading whitespace\n",
    "data = pd.merge(beers,breweries,on='brewery_id',how='inner')\n",
    "data = data[np.isfinite(data['ibu'])]\n",
    "data['abv'] = data['abv']*100\n",
    "data['state'] = data['state'].str.slice(1,3)\n",
    "\n",
    "# get data from California\n",
    "ca = data[data['state'] == 'CA']"
   ]
  },
  {
   "cell_type": "code",
   "execution_count": 2,
   "metadata": {
    "collapsed": false
   },
   "outputs": [
    {
     "data": {
      "text/plain": [
       "21st Amendment Brewery               17\n",
       "Golden Road Brewing                  14\n",
       "Anderson Valley Brewing Company      14\n",
       "Modern Times Beer                     8\n",
       "TailGate Beer                         7\n",
       "Mike Hess Brewing Company             6\n",
       "Sierra Nevada Brewing Company         6\n",
       "Manzanita Brewing Company             5\n",
       "Ruhstaller Beer Company               5\n",
       "Black Market Brewing Company          4\n",
       "Ballast Point Brewing Company         4\n",
       "Fort Point Beer Company               4\n",
       "Central Coast Brewing Company         4\n",
       "Saint Archer Brewery                  4\n",
       "Hess Brewing Company                  3\n",
       "Mission Brewery                       3\n",
       "Devil's Canyon Brewery                3\n",
       "The Dudes' Brewing Company            3\n",
       "Firestone Walker Brewing Company      3\n",
       "Headlands Brewing Company             3\n",
       "Mavericks Beer Company                3\n",
       "Hangar 24 Craft Brewery               2\n",
       "Figueroa Mountain Brewing Company     2\n",
       "Butcher's Brewing                     1\n",
       "Mother Earth Brew Company             1\n",
       "Seabright Brewery                     1\n",
       "Speakasy Ales & Lagers                1\n",
       "Santa Cruz Mountain Brewing           1\n",
       "Armstrong Brewing Company             1\n",
       "Refuge Brewery                        1\n",
       "Claremont Craft Ales                  1\n",
       "Name: brewery_name, dtype: int64"
      ]
     },
     "execution_count": 2,
     "metadata": {},
     "output_type": "execute_result"
    }
   ],
   "source": [
    "ca['brewery_name'].value_counts()"
   ]
  },
  {
   "cell_type": "code",
   "execution_count": 3,
   "metadata": {
    "collapsed": false
   },
   "outputs": [
    {
     "data": {
      "text/plain": [
       "San Diego              35\n",
       "San Francisco          22\n",
       "Boonville              14\n",
       "Los Angeles            14\n",
       "Chico                   6\n",
       "Temecula                5\n",
       "Santee                  5\n",
       "Sacramento              5\n",
       "San Luis Obispo         4\n",
       "Torrance                3\n",
       "Paso Robles             3\n",
       "Half Moon Bay           3\n",
       "Belmont                 3\n",
       "Mill Valley             3\n",
       "Redlands                2\n",
       "Santa Cruz              2\n",
       "Buellton                2\n",
       "Claremont               1\n",
       "Vista                   1\n",
       "South San Francisco     1\n",
       "Carlsbad                1\n",
       "Name: city, dtype: int64"
      ]
     },
     "execution_count": 3,
     "metadata": {},
     "output_type": "execute_result"
    }
   ],
   "source": [
    "ca['city'].value_counts()"
   ]
  },
  {
   "cell_type": "code",
   "execution_count": 4,
   "metadata": {
    "collapsed": false
   },
   "outputs": [
    {
     "name": "stderr",
     "output_type": "stream",
     "text": [
      "/anaconda/lib/python2.7/site-packages/ipykernel/__main__.py:6: SettingWithCopyWarning: \n",
      "A value is trying to be set on a copy of a slice from a DataFrame.\n",
      "Try using .loc[row_indexer,col_indexer] = value instead\n",
      "\n",
      "See the caveats in the documentation: http://pandas.pydata.org/pandas-docs/stable/indexing.html#indexing-view-versus-copy\n",
      "/anaconda/lib/python2.7/site-packages/ipykernel/__main__.py:13: SettingWithCopyWarning: \n",
      "A value is trying to be set on a copy of a slice from a DataFrame.\n",
      "Try using .loc[row_indexer,col_indexer] = value instead\n",
      "\n",
      "See the caveats in the documentation: http://pandas.pydata.org/pandas-docs/stable/indexing.html#indexing-view-versus-copy\n",
      "/anaconda/lib/python2.7/site-packages/ipykernel/__main__.py:14: SettingWithCopyWarning: \n",
      "A value is trying to be set on a copy of a slice from a DataFrame.\n",
      "Try using .loc[row_indexer,col_indexer] = value instead\n",
      "\n",
      "See the caveats in the documentation: http://pandas.pydata.org/pandas-docs/stable/indexing.html#indexing-view-versus-copy\n"
     ]
    }
   ],
   "source": [
    "# use geopy to get coordinate data so we can use PixieDust's mapping capabilities\n",
    "from geopy.geocoders import Nominatim\n",
    "geolocator = Nominatim()\n",
    "\n",
    "# make it easier for geopy to find coordinates\n",
    "ca['city-state'] = ca['city']+\", \"+ca['state']\n",
    "cities = ca['city-state'].unique()\n",
    "\n",
    "# create dictionaries of latitudes and longitudes\n",
    "lats = dict(zip(cities, pd.Series(cities).apply(geolocator.geocode).apply(lambda x: x.latitude)))\n",
    "longs = dict(zip(cities, pd.Series(cities).apply(geolocator.geocode).apply(lambda x: x.longitude)))\n",
    "\n",
    "ca['latitude'] = ca['city-state'].map(lats)\n",
    "ca['longitude'] = ca['city-state'].map(longs)"
   ]
  },
  {
   "cell_type": "markdown",
   "metadata": {},
   "source": [
    "All we need to do now is to import PixieDust, convert the dataframe to a Spark dataframe, and then use PixieDust's `display` API to visualize the data!"
   ]
  },
  {
   "cell_type": "code",
   "execution_count": 5,
   "metadata": {
    "collapsed": false,
    "pixiedust": {
     "displayParams": {
      "aggregation": "AVG",
      "handlerId": "mapView",
      "keyFields": "latitude,longitude",
      "kind": "densitymap",
      "mapboxtoken": "pk.eyJ1IjoiYmVuaHVkcyIsImEiOiJjaXpzdzJpczkwMDEyMnhvOXdoczY2dXF5In0.Ud3az0JTpHTDM6bBpefsKA",
      "rowCount": "143",
      "valueFields": "abv"
     }
    }
   },
   "outputs": [
    {
     "data": {
      "text/html": [
       "<style type=\"text/css\">.pd_warning{display:none;}</style><div class=\"pd_warning\"><em>Hey, there's something awesome here! To see it, open this notebook outside GitHub, in a viewer like Jupyter</em></div><div id=\"chartFigure3389658b\" class=\"pd_save is-viewer-good\" style=\"overflow-x:auto\">\n",
       "            <h1 style=\"padding:0 0 8px 0\">PixieDust map with Mapbox</h1>\n",
       "\n",
       "<iframe style=\"width:784px;height:416px\" srcdoc=\"<html><head><script src=&quot;https://api.tiles.mapbox.com/mapbox-gl-js/v0.32.1/mapbox-gl.js&quot;></script><link href=&quot;https://api.tiles.mapbox.com/mapbox-gl-js/v0.32.1/mapbox-gl.css&quot; rel=&quot;stylesheet&quot; /><style>.mapboxgl-popup {    max-width: 200px;}#map canvas {    cursor: crosshair;}.legend {    background-color: rgba(255,255,255, 0.75);    border-radius: 3px;    position: absolute;    right: 14px;    top: 14px;    box-shadow: 0 1px 2px rgba(0,0,0,0.10);    font-size: 12px;    line-height: 18px;    padding: 10px;    z-index: 1;}.legend h4 {    margin: 0 0 10px;}.legend div span {    border-radius: 50%;    display: inline-block;    height: 10px;    margin-right: 5px;    width: 10px;}body { background-color:#333; margin:0px !important; overflow: hidden;font-family: &quot;Helvetica Neue&quot;, Arial, Helvetica, sans-serif;}</style></head><body><div id=&quot;map3389658b&quot; style=&quot;width:780px;height:412px;&quot; ></div><script>    window.maploadtime = 1;    mapboxgl.accessToken=&quot;pk.eyJ1IjoiYmVuaHVkcyIsImEiOiJjaXpzdzJpczkwMDEyMnhvOXdoczY2dXF5In0.Ud3az0JTpHTDM6bBpefsKA&quot;;    var map = new mapboxgl.Map({        container: &quot;map3389658b&quot;,        style: &quot;mapbox://styles/mapbox/light-v9&quot;    });    var popup = new mapboxgl.Popup({closeButton: false,closeOnClick: true});        map.on(&quot;mousemove&quot;, function (e) {        var fs = map.queryRenderedFeatures(e.point,{layers:[&quot;pxlayer&quot;]});        map.getCanvas().style.cursor=(fs.length)?&quot;pointer&quot;:&quot;&quot;;        if (!fs.length) {popup.remove();return;};        var f = fs[0];        var keylength = Object.keys(f.properties).length;        popuphtml = &quot;&quot;;        for (var key in f.properties) {            popuphtml += &quot;<b>&quot;+key+&quot;: </b> &quot;+f.properties[key]+&quot;<br/>&quot;        }        popup.setLngLat(f.geometry.coordinates).setHTML(popuphtml).addTo(map);    });            map.on(&quot;load&quot;, function() {        var mapdata={&quot;type&quot;: &quot;FeatureCollection&quot;, &quot;features&quot;: [{&quot;geometry&quot;: {&quot;type&quot;: &quot;Point&quot;, &quot;coordinates&quot;: [-117.1627713, 32.7174209]}, &quot;type&quot;: &quot;Feature&quot;, &quot;properties&quot;: {&quot;abv&quot;: 6.2257142857142869}}, {&quot;geometry&quot;: {&quot;type&quot;: &quot;Point&quot;, &quot;coordinates&quot;: [-116.9739166, 32.838382799999998]}, &quot;type&quot;: &quot;Feature&quot;, &quot;properties&quot;: {&quot;abv&quot;: 8.0}}, {&quot;geometry&quot;: {&quot;type&quot;: &quot;Point&quot;, &quot;coordinates&quot;: [-117.3505938, 33.158093299999997]}, &quot;type&quot;: &quot;Feature&quot;, &quot;properties&quot;: {&quot;abv&quot;: 5.6000000000000005}}, {&quot;geometry&quot;: {&quot;type&quot;: &quot;Point&quot;, &quot;coordinates&quot;: [-117.24253539999999, 33.200036799999999]}, &quot;type&quot;: &quot;Feature&quot;, &quot;properties&quot;: {&quot;abv&quot;: 5.2000000000000002}}, {&quot;geometry&quot;: {&quot;type&quot;: &quot;Point&quot;, &quot;coordinates&quot;: [-117.14736600000001, 33.494635299999999]}, &quot;type&quot;: &quot;Feature&quot;, &quot;properties&quot;: {&quot;abv&quot;: 5.5600000000000005}}, {&quot;geometry&quot;: {&quot;type&quot;: &quot;Point&quot;, &quot;coordinates&quot;: [-118.3406287, 33.835849199999998]}, &quot;type&quot;: &quot;Feature&quot;, &quot;properties&quot;: {&quot;abv&quot;: 7.333333333333333}}, {&quot;geometry&quot;: {&quot;type&quot;: &quot;Point&quot;, &quot;coordinates&quot;: [-118.2444759, 34.054935]}, &quot;type&quot;: &quot;Feature&quot;, &quot;properties&quot;: {&quot;abv&quot;: 6.6428571428571432}}, {&quot;geometry&quot;: {&quot;type&quot;: &quot;Point&quot;, &quot;coordinates&quot;: [-117.099505578628, 34.070719500000003]}, &quot;type&quot;: &quot;Feature&quot;, &quot;properties&quot;: {&quot;abv&quot;: 4.4499999999999993}}, {&quot;geometry&quot;: {&quot;type&quot;: &quot;Point&quot;, &quot;coordinates&quot;: [-117.7197784, 34.0966764]}, &quot;type&quot;: &quot;Feature&quot;, &quot;properties&quot;: {&quot;abv&quot;: 6.7000000000000002}}, {&quot;geometry&quot;: {&quot;type&quot;: &quot;Point&quot;, &quot;coordinates&quot;: [-120.19366909999999, 34.613472700000003]}, &quot;type&quot;: &quot;Feature&quot;, &quot;properties&quot;: {&quot;abv&quot;: 5.1500000000000004}}, {&quot;geometry&quot;: {&quot;type&quot;: &quot;Point&quot;, &quot;coordinates&quot;: [-120.6596155, 35.282752500000001]}, &quot;type&quot;: &quot;Feature&quot;, &quot;properties&quot;: {&quot;abv&quot;: 7.3250000000000002}}, {&quot;geometry&quot;: {&quot;type&quot;: &quot;Point&quot;, &quot;coordinates&quot;: [-120.69124549999999, 35.626765399999996]}, &quot;type&quot;: &quot;Feature&quot;, &quot;properties&quot;: {&quot;abv&quot;: 5.5666666666666664}}, {&quot;geometry&quot;: {&quot;type&quot;: &quot;Point&quot;, &quot;coordinates&quot;: [-122.0260569, 36.973590299999998]}, &quot;type&quot;: &quot;Feature&quot;, &quot;properties&quot;: {&quot;abv&quot;: 8.1500000000000004}}, {&quot;geometry&quot;: {&quot;type&quot;: &quot;Point&quot;, &quot;coordinates&quot;: [-122.4285861, 37.463551899999999]}, &quot;type&quot;: &quot;Feature&quot;, &quot;properties&quot;: {&quot;abv&quot;: 3.7000000000000006}}, {&quot;geometry&quot;: {&quot;type&quot;: &quot;Point&quot;, &quot;coordinates&quot;: [-122.2758007, 37.520214500000002]}, &quot;type&quot;: &quot;Feature&quot;, &quot;properties&quot;: {&quot;abv&quot;: 6.6333333333333337}}, {&quot;geometry&quot;: {&quot;type&quot;: &quot;Point&quot;, &quot;coordinates&quot;: [-122.408125, 37.654949299999998]}, &quot;type&quot;: &quot;Feature&quot;, &quot;properties&quot;: {&quot;abv&quot;: 5.2000000000000002}}, {&quot;geometry&quot;: {&quot;type&quot;: &quot;Point&quot;, &quot;coordinates&quot;: [-122.4192362, 37.779280800000002]}, &quot;type&quot;: &quot;Feature&quot;, &quot;properties&quot;: {&quot;abv&quot;: 6.4227272727272728}}, {&quot;geometry&quot;: {&quot;type&quot;: &quot;Point&quot;, &quot;coordinates&quot;: [-122.54497619999999, 37.906036800000003]}, &quot;type&quot;: &quot;Feature&quot;, &quot;properties&quot;: {&quot;abv&quot;: 7.5333333333333341}}, {&quot;geometry&quot;: {&quot;type&quot;: &quot;Point&quot;, &quot;coordinates&quot;: [-121.4943995, 38.5815719]}, &quot;type&quot;: &quot;Feature&quot;, &quot;properties&quot;: {&quot;abv&quot;: 6.1200000000000001}}, {&quot;geometry&quot;: {&quot;type&quot;: &quot;Point&quot;, &quot;coordinates&quot;: [-123.366111, 39.009166700000002]}, &quot;type&quot;: &quot;Feature&quot;, &quot;properties&quot;: {&quot;abv&quot;: 5.9428571428571431}}, {&quot;geometry&quot;: {&quot;type&quot;: &quot;Point&quot;, &quot;coordinates&quot;: [-121.8374776, 39.728494499999996]}, &quot;type&quot;: &quot;Feature&quot;, &quot;properties&quot;: {&quot;abv&quot;: 5.9000000000000012}}]};                map.addSource(&quot;pxdatasource&quot;, {            &quot;type&quot;:&quot;geojson&quot;,            &quot;data&quot;:mapdata,            &quot;cluster&quot;: true,             &quot;clusterMaxZoom&quot;: 11,             &quot;clusterRadius&quot;: 20        });        var layers = [];                layers.push([3.7, &quot;#ffffcc&quot;]);                layers.push([5.56, &quot;#a1dab4&quot;]);                layers.push([6.12, &quot;#41b6c4&quot;]);                layers.push([6.7, &quot;#2c7fb8&quot;]);                layers.push([8.15, &quot;#253494&quot;]);                layers.forEach(function(layer,i) {            map.addLayer({                &quot;id&quot;: &quot;cluster-&quot; + i,                 &quot;type&quot;: &quot;circle&quot;,                 &quot;source&quot;: &quot;pxdatasource&quot;,                 &quot;paint&quot;: {                    &quot;circle-color&quot;: layer[1],                    &quot;circle-radius&quot;: 70,                     &quot;circle-blur&quot;: 1                },                 &quot;filter&quot;: i === layers.length-1 ? [&quot;>=&quot;, &quot;abv&quot;, layer[0]] :                     [&quot;all&quot;, [&quot;>=&quot;, &quot;abv&quot;, layer[0]], [&quot;<&quot;, &quot;abv&quot;, layers[i+1][0]]]            }, &quot;waterway-label&quot;);        });                map.addLayer({            &quot;id&quot;: &quot;pxlayer&quot;,             &quot;type&quot;: &quot;circle&quot;,             &quot;source&quot;: &quot;pxdatasource&quot;,             &quot;paint&quot;: {                &quot;circle-color&quot;: &quot;rgba(0,255,0,0.5)&quot;,                 &quot;circle-radius&quot;: 20,                 &quot;circle-blur&quot;: 1            },             &quot;filter&quot;: [&quot;!=&quot;, &quot;cluster&quot;, true]        }, &quot;waterway-label&quot;);                map.fitBounds([[-123.366111, 32.7174209], [-116.9739166, 39.728494499999996]]);    });</script></body></html>\"></iframe>\n",
       "        </div>"
      ],
      "text/plain": [
       "<IPython.core.display.HTML object>"
      ]
     },
     "metadata": {},
     "output_type": "display_data"
    }
   ],
   "source": [
    "import pixiedust\n",
    "\n",
    "# convert Pandas dataframe to Spark dataframe for visualization with PixieDust\n",
    "sqlContext = SQLContext(sc)\n",
    "ca2 = sqlContext.createDataFrame(ca)\n",
    "\n",
    "display(ca2)"
   ]
  },
  {
   "cell_type": "markdown",
   "metadata": {},
   "source": [
    "(optional step: add Yelp reviews to brewery data)"
   ]
  },
  {
   "cell_type": "code",
   "execution_count": 6,
   "metadata": {
    "collapsed": false
   },
   "outputs": [],
   "source": [
    "# use the Yelp API to get reviews for each brewery in the list\n",
    "# API tokens have been redacted so this step won't work unless you put your own in\n",
    "\n",
    "import reviews\n",
    "\n",
    "def rev(r):\n",
    "    return reviews.query_api(r['brewery_name'],r['city-state'])\n",
    "\n",
    "bs = ca[['brewery_name','city-state','latitude','longitude']]\n",
    "bs = bs.drop_duplicates()\n",
    "bs['review'] = bs.apply(rev,axis=1)\n",
    "\n",
    "bs2 = sqlContext.createDataFrame(bs)\n",
    "display(bs2)"
   ]
  },
  {
   "cell_type": "code",
   "execution_count": null,
   "metadata": {
    "collapsed": true
   },
   "outputs": [],
   "source": []
  }
 ],
 "metadata": {
  "anaconda-cloud": {},
  "kernelspec": {
   "display_name": "Python with Pixiedust (Spark 1.6)",
   "language": "python",
   "name": "pythonwithpixiedustspark16"
  },
  "language_info": {
   "codemirror_mode": {
    "name": "ipython",
    "version": 2
   },
   "file_extension": ".py",
   "mimetype": "text/x-python",
   "name": "python",
   "nbconvert_exporter": "python",
   "pygments_lexer": "ipython2",
   "version": "2.7.12"
  }
 },
 "nbformat": 4,
 "nbformat_minor": 0
}
