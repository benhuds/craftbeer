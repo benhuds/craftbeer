{
 "cells": [
  {
   "cell_type": "code",
   "execution_count": 4,
   "metadata": {
    "collapsed": true
   },
   "outputs": [],
   "source": [
    "import pandas as pd\n",
    "import numpy as np\n",
    "import matplotlib.pyplot as plt\n",
    "\n",
    "plt.rcParams['figure.figsize'] = (30, 20)\n",
    "plt.rcParams['font.family'] = 'sans-serif'\n",
    "\n",
    "%matplotlib inline\n",
    "\n",
    "# data from https://www.kaggle.com/nickhould/craft-cans (scraped from CraftCans.com in January 2017)\n",
    "beers = pd.read_csv(\"beers.csv\")\n",
    "breweries = pd.read_csv(\"breweries.csv\")"
   ]
  },
  {
   "cell_type": "code",
   "execution_count": 5,
   "metadata": {
    "collapsed": false
   },
   "outputs": [
    {
     "data": {
      "text/html": [
       "<div>\n",
       "<table border=\"1\" class=\"dataframe\">\n",
       "  <thead>\n",
       "    <tr style=\"text-align: right;\">\n",
       "      <th></th>\n",
       "      <th>Unnamed: 0</th>\n",
       "      <th>abv</th>\n",
       "      <th>ibu</th>\n",
       "      <th>id</th>\n",
       "      <th>name</th>\n",
       "      <th>style</th>\n",
       "      <th>brewery_id</th>\n",
       "      <th>ounces</th>\n",
       "    </tr>\n",
       "  </thead>\n",
       "  <tbody>\n",
       "    <tr>\n",
       "      <th>0</th>\n",
       "      <td>0</td>\n",
       "      <td>0.050</td>\n",
       "      <td>NaN</td>\n",
       "      <td>1436</td>\n",
       "      <td>Pub Beer</td>\n",
       "      <td>American Pale Lager</td>\n",
       "      <td>408</td>\n",
       "      <td>12.0</td>\n",
       "    </tr>\n",
       "    <tr>\n",
       "      <th>1</th>\n",
       "      <td>1</td>\n",
       "      <td>0.066</td>\n",
       "      <td>NaN</td>\n",
       "      <td>2265</td>\n",
       "      <td>Devil's Cup</td>\n",
       "      <td>American Pale Ale (APA)</td>\n",
       "      <td>177</td>\n",
       "      <td>12.0</td>\n",
       "    </tr>\n",
       "    <tr>\n",
       "      <th>2</th>\n",
       "      <td>2</td>\n",
       "      <td>0.071</td>\n",
       "      <td>NaN</td>\n",
       "      <td>2264</td>\n",
       "      <td>Rise of the Phoenix</td>\n",
       "      <td>American IPA</td>\n",
       "      <td>177</td>\n",
       "      <td>12.0</td>\n",
       "    </tr>\n",
       "    <tr>\n",
       "      <th>3</th>\n",
       "      <td>3</td>\n",
       "      <td>0.090</td>\n",
       "      <td>NaN</td>\n",
       "      <td>2263</td>\n",
       "      <td>Sinister</td>\n",
       "      <td>American Double / Imperial IPA</td>\n",
       "      <td>177</td>\n",
       "      <td>12.0</td>\n",
       "    </tr>\n",
       "    <tr>\n",
       "      <th>4</th>\n",
       "      <td>4</td>\n",
       "      <td>0.075</td>\n",
       "      <td>NaN</td>\n",
       "      <td>2262</td>\n",
       "      <td>Sex and Candy</td>\n",
       "      <td>American IPA</td>\n",
       "      <td>177</td>\n",
       "      <td>12.0</td>\n",
       "    </tr>\n",
       "  </tbody>\n",
       "</table>\n",
       "</div>"
      ],
      "text/plain": [
       "   Unnamed: 0    abv  ibu    id                 name  \\\n",
       "0           0  0.050  NaN  1436             Pub Beer   \n",
       "1           1  0.066  NaN  2265          Devil's Cup   \n",
       "2           2  0.071  NaN  2264  Rise of the Phoenix   \n",
       "3           3  0.090  NaN  2263             Sinister   \n",
       "4           4  0.075  NaN  2262        Sex and Candy   \n",
       "\n",
       "                            style  brewery_id  ounces  \n",
       "0             American Pale Lager         408    12.0  \n",
       "1         American Pale Ale (APA)         177    12.0  \n",
       "2                    American IPA         177    12.0  \n",
       "3  American Double / Imperial IPA         177    12.0  \n",
       "4                    American IPA         177    12.0  "
      ]
     },
     "execution_count": 5,
     "metadata": {},
     "output_type": "execute_result"
    }
   ],
   "source": [
    "beers.head()"
   ]
  },
  {
   "cell_type": "code",
   "execution_count": 6,
   "metadata": {
    "collapsed": false
   },
   "outputs": [
    {
     "data": {
      "text/html": [
       "<div>\n",
       "<table border=\"1\" class=\"dataframe\">\n",
       "  <thead>\n",
       "    <tr style=\"text-align: right;\">\n",
       "      <th></th>\n",
       "      <th>Unnamed: 0</th>\n",
       "      <th>name</th>\n",
       "      <th>city</th>\n",
       "      <th>state</th>\n",
       "    </tr>\n",
       "  </thead>\n",
       "  <tbody>\n",
       "    <tr>\n",
       "      <th>0</th>\n",
       "      <td>0</td>\n",
       "      <td>NorthGate Brewing</td>\n",
       "      <td>Minneapolis</td>\n",
       "      <td>MN</td>\n",
       "    </tr>\n",
       "    <tr>\n",
       "      <th>1</th>\n",
       "      <td>1</td>\n",
       "      <td>Against the Grain Brewery</td>\n",
       "      <td>Louisville</td>\n",
       "      <td>KY</td>\n",
       "    </tr>\n",
       "    <tr>\n",
       "      <th>2</th>\n",
       "      <td>2</td>\n",
       "      <td>Jack's Abby Craft Lagers</td>\n",
       "      <td>Framingham</td>\n",
       "      <td>MA</td>\n",
       "    </tr>\n",
       "    <tr>\n",
       "      <th>3</th>\n",
       "      <td>3</td>\n",
       "      <td>Mike Hess Brewing Company</td>\n",
       "      <td>San Diego</td>\n",
       "      <td>CA</td>\n",
       "    </tr>\n",
       "    <tr>\n",
       "      <th>4</th>\n",
       "      <td>4</td>\n",
       "      <td>Fort Point Beer Company</td>\n",
       "      <td>San Francisco</td>\n",
       "      <td>CA</td>\n",
       "    </tr>\n",
       "  </tbody>\n",
       "</table>\n",
       "</div>"
      ],
      "text/plain": [
       "   Unnamed: 0                       name           city state\n",
       "0           0         NorthGate Brewing     Minneapolis    MN\n",
       "1           1  Against the Grain Brewery     Louisville    KY\n",
       "2           2   Jack's Abby Craft Lagers     Framingham    MA\n",
       "3           3  Mike Hess Brewing Company      San Diego    CA\n",
       "4           4    Fort Point Beer Company  San Francisco    CA"
      ]
     },
     "execution_count": 6,
     "metadata": {},
     "output_type": "execute_result"
    }
   ],
   "source": [
    "breweries.head()"
   ]
  },
  {
   "cell_type": "code",
   "execution_count": 7,
   "metadata": {
    "collapsed": false
   },
   "outputs": [],
   "source": [
    "# remove redundant column, rename columns for clarity\n",
    "beers = beers.drop('Unnamed: 0',axis=1)\n",
    "breweries = breweries.rename(columns = {'Unnamed: 0': 'brewery_id', 'name': 'brewery_name'})\n",
    "\n",
    "# merge dataframes, remove NaN values, make ABV more readable\n",
    "data = pd.merge(beers,breweries,on='brewery_id',how='inner')\n",
    "data = data[np.isfinite(data['ibu'])]\n",
    "data['abv'] = data['abv']*100"
   ]
  },
  {
   "cell_type": "code",
   "execution_count": 8,
   "metadata": {
    "collapsed": false
   },
   "outputs": [
    {
     "data": {
      "text/html": [
       "<div>\n",
       "<table border=\"1\" class=\"dataframe\">\n",
       "  <thead>\n",
       "    <tr style=\"text-align: right;\">\n",
       "      <th></th>\n",
       "      <th>abv</th>\n",
       "      <th>ibu</th>\n",
       "      <th>id</th>\n",
       "      <th>name</th>\n",
       "      <th>style</th>\n",
       "      <th>brewery_id</th>\n",
       "      <th>ounces</th>\n",
       "      <th>brewery_name</th>\n",
       "      <th>city</th>\n",
       "      <th>state</th>\n",
       "    </tr>\n",
       "  </thead>\n",
       "  <tbody>\n",
       "    <tr>\n",
       "      <th>14</th>\n",
       "      <td>6.1</td>\n",
       "      <td>60.0</td>\n",
       "      <td>1979</td>\n",
       "      <td>Bitter Bitch</td>\n",
       "      <td>American Pale Ale (APA)</td>\n",
       "      <td>177</td>\n",
       "      <td>12.0</td>\n",
       "      <td>18th Street Brewery</td>\n",
       "      <td>Gary</td>\n",
       "      <td>IN</td>\n",
       "    </tr>\n",
       "    <tr>\n",
       "      <th>21</th>\n",
       "      <td>9.9</td>\n",
       "      <td>92.0</td>\n",
       "      <td>1036</td>\n",
       "      <td>Lower De Boom</td>\n",
       "      <td>American Barleywine</td>\n",
       "      <td>368</td>\n",
       "      <td>8.4</td>\n",
       "      <td>21st Amendment Brewery</td>\n",
       "      <td>San Francisco</td>\n",
       "      <td>CA</td>\n",
       "    </tr>\n",
       "    <tr>\n",
       "      <th>22</th>\n",
       "      <td>7.9</td>\n",
       "      <td>45.0</td>\n",
       "      <td>1024</td>\n",
       "      <td>Fireside Chat</td>\n",
       "      <td>Winter Warmer</td>\n",
       "      <td>368</td>\n",
       "      <td>12.0</td>\n",
       "      <td>21st Amendment Brewery</td>\n",
       "      <td>San Francisco</td>\n",
       "      <td>CA</td>\n",
       "    </tr>\n",
       "    <tr>\n",
       "      <th>24</th>\n",
       "      <td>4.4</td>\n",
       "      <td>42.0</td>\n",
       "      <td>876</td>\n",
       "      <td>Bitter American</td>\n",
       "      <td>American Pale Ale (APA)</td>\n",
       "      <td>368</td>\n",
       "      <td>12.0</td>\n",
       "      <td>21st Amendment Brewery</td>\n",
       "      <td>San Francisco</td>\n",
       "      <td>CA</td>\n",
       "    </tr>\n",
       "    <tr>\n",
       "      <th>25</th>\n",
       "      <td>4.9</td>\n",
       "      <td>17.0</td>\n",
       "      <td>802</td>\n",
       "      <td>Hell or High Watermelon Wheat (2009)</td>\n",
       "      <td>Fruit / Vegetable Beer</td>\n",
       "      <td>368</td>\n",
       "      <td>12.0</td>\n",
       "      <td>21st Amendment Brewery</td>\n",
       "      <td>San Francisco</td>\n",
       "      <td>CA</td>\n",
       "    </tr>\n",
       "  </tbody>\n",
       "</table>\n",
       "</div>"
      ],
      "text/plain": [
       "    abv   ibu    id                                  name  \\\n",
       "14  6.1  60.0  1979                          Bitter Bitch   \n",
       "21  9.9  92.0  1036                         Lower De Boom   \n",
       "22  7.9  45.0  1024                         Fireside Chat   \n",
       "24  4.4  42.0   876                       Bitter American   \n",
       "25  4.9  17.0   802  Hell or High Watermelon Wheat (2009)   \n",
       "\n",
       "                      style  brewery_id  ounces            brewery_name  \\\n",
       "14  American Pale Ale (APA)         177    12.0     18th Street Brewery   \n",
       "21      American Barleywine         368     8.4  21st Amendment Brewery   \n",
       "22            Winter Warmer         368    12.0  21st Amendment Brewery   \n",
       "24  American Pale Ale (APA)         368    12.0  21st Amendment Brewery   \n",
       "25   Fruit / Vegetable Beer         368    12.0  21st Amendment Brewery   \n",
       "\n",
       "             city state  \n",
       "14           Gary    IN  \n",
       "21  San Francisco    CA  \n",
       "22  San Francisco    CA  \n",
       "24  San Francisco    CA  \n",
       "25  San Francisco    CA  "
      ]
     },
     "execution_count": 8,
     "metadata": {},
     "output_type": "execute_result"
    }
   ],
   "source": [
    "data.head()"
   ]
  },
  {
   "cell_type": "code",
   "execution_count": 9,
   "metadata": {
    "collapsed": false
   },
   "outputs": [
    {
     "data": {
      "text/plain": [
       "array([' IN', ' CA', ' FL', ' MO', ' WA', ' CO', ' LA', ' KY', ' OR',\n",
       "       ' AK', ' NC', ' MI', ' TX', ' AL', ' MA', ' AZ', ' MN', ' ME',\n",
       "       ' VA', ' IL', ' TN', ' MT', ' WY', ' NE', ' NY', ' NJ', ' NV',\n",
       "       ' OK', ' WI', ' OH', ' GA', ' RI', ' IA', ' ID', ' DC', ' KS',\n",
       "       ' ND', ' VT', ' MD', ' WV', ' CT', ' PA', ' HI', ' NM', ' MS',\n",
       "       ' AR', ' SC', ' DE', ' UT', ' NH'], dtype=object)"
      ]
     },
     "execution_count": 9,
     "metadata": {},
     "output_type": "execute_result"
    }
   ],
   "source": [
    "data['state'].unique()"
   ]
  },
  {
   "cell_type": "code",
   "execution_count": 10,
   "metadata": {
    "collapsed": true
   },
   "outputs": [],
   "source": [
    "# remove space in front of state names\n",
    "data['state'] = data['state'].str.slice(1,3)"
   ]
  },
  {
   "cell_type": "code",
   "execution_count": 11,
   "metadata": {
    "collapsed": false
   },
   "outputs": [
    {
     "data": {
      "text/plain": [
       "(135, 10)"
      ]
     },
     "execution_count": 11,
     "metadata": {},
     "output_type": "execute_result"
    }
   ],
   "source": [
    "ca = data[data['state'] == 'CA']\n",
    "ca.shape"
   ]
  },
  {
   "cell_type": "code",
   "execution_count": 12,
   "metadata": {
    "collapsed": false
   },
   "outputs": [
    {
     "data": {
      "text/plain": [
       "21st Amendment Brewery               17\n",
       "Golden Road Brewing                  14\n",
       "Anderson Valley Brewing Company      14\n",
       "Modern Times Beer                     8\n",
       "TailGate Beer                         7\n",
       "Mike Hess Brewing Company             6\n",
       "Sierra Nevada Brewing Company         6\n",
       "Manzanita Brewing Company             5\n",
       "Ruhstaller Beer Company               5\n",
       "Black Market Brewing Company          4\n",
       "Ballast Point Brewing Company         4\n",
       "Fort Point Beer Company               4\n",
       "Central Coast Brewing Company         4\n",
       "Saint Archer Brewery                  4\n",
       "Hess Brewing Company                  3\n",
       "Mission Brewery                       3\n",
       "Devil's Canyon Brewery                3\n",
       "The Dudes' Brewing Company            3\n",
       "Firestone Walker Brewing Company      3\n",
       "Headlands Brewing Company             3\n",
       "Mavericks Beer Company                3\n",
       "Hangar 24 Craft Brewery               2\n",
       "Figueroa Mountain Brewing Company     2\n",
       "Butcher's Brewing                     1\n",
       "Mother Earth Brew Company             1\n",
       "Seabright Brewery                     1\n",
       "Speakasy Ales & Lagers                1\n",
       "Santa Cruz Mountain Brewing           1\n",
       "Armstrong Brewing Company             1\n",
       "Refuge Brewery                        1\n",
       "Claremont Craft Ales                  1\n",
       "Name: brewery_name, dtype: int64"
      ]
     },
     "execution_count": 12,
     "metadata": {},
     "output_type": "execute_result"
    }
   ],
   "source": [
    "ca['brewery_name'].value_counts()"
   ]
  },
  {
   "cell_type": "code",
   "execution_count": 13,
   "metadata": {
    "collapsed": false
   },
   "outputs": [
    {
     "data": {
      "text/plain": [
       "San Diego              35\n",
       "San Francisco          22\n",
       "Boonville              14\n",
       "Los Angeles            14\n",
       "Chico                   6\n",
       "Temecula                5\n",
       "Santee                  5\n",
       "Sacramento              5\n",
       "San Luis Obispo         4\n",
       "Torrance                3\n",
       "Paso Robles             3\n",
       "Half Moon Bay           3\n",
       "Belmont                 3\n",
       "Mill Valley             3\n",
       "Redlands                2\n",
       "Santa Cruz              2\n",
       "Buellton                2\n",
       "Claremont               1\n",
       "Vista                   1\n",
       "South San Francisco     1\n",
       "Carlsbad                1\n",
       "Name: city, dtype: int64"
      ]
     },
     "execution_count": 13,
     "metadata": {},
     "output_type": "execute_result"
    }
   ],
   "source": [
    "ca['city'].value_counts()"
   ]
  },
  {
   "cell_type": "code",
   "execution_count": 14,
   "metadata": {
    "collapsed": false
   },
   "outputs": [
    {
     "name": "stderr",
     "output_type": "stream",
     "text": [
      "/anaconda/lib/python2.7/site-packages/ipykernel/__main__.py:5: SettingWithCopyWarning: \n",
      "A value is trying to be set on a copy of a slice from a DataFrame.\n",
      "Try using .loc[row_indexer,col_indexer] = value instead\n",
      "\n",
      "See the caveats in the documentation: http://pandas.pydata.org/pandas-docs/stable/indexing.html#indexing-view-versus-copy\n",
      "/anaconda/lib/python2.7/site-packages/ipykernel/__main__.py:12: SettingWithCopyWarning: \n",
      "A value is trying to be set on a copy of a slice from a DataFrame.\n",
      "Try using .loc[row_indexer,col_indexer] = value instead\n",
      "\n",
      "See the caveats in the documentation: http://pandas.pydata.org/pandas-docs/stable/indexing.html#indexing-view-versus-copy\n",
      "/anaconda/lib/python2.7/site-packages/ipykernel/__main__.py:13: SettingWithCopyWarning: \n",
      "A value is trying to be set on a copy of a slice from a DataFrame.\n",
      "Try using .loc[row_indexer,col_indexer] = value instead\n",
      "\n",
      "See the caveats in the documentation: http://pandas.pydata.org/pandas-docs/stable/indexing.html#indexing-view-versus-copy\n"
     ]
    }
   ],
   "source": [
    "from geopy.geocoders import Nominatim\n",
    "geolocator = Nominatim()\n",
    "\n",
    "# make it easier for geopy to find coordinates\n",
    "ca['city-state'] = ca['city']+\", \"+ca['state']\n",
    "cities = ca['city-state'].unique()\n",
    "\n",
    "# create dictionaries of latitudes and longitudes\n",
    "lats = dict(zip(cities, pd.Series(cities).apply(geolocator.geocode).apply(lambda x: x.latitude)))\n",
    "longs = dict(zip(cities, pd.Series(cities).apply(geolocator.geocode).apply(lambda x: x.longitude)))\n",
    "\n",
    "ca['latitude'] = ca['city-state'].map(lats)\n",
    "ca['longitude'] = ca['city-state'].map(longs)"
   ]
  },
  {
   "cell_type": "code",
   "execution_count": 12,
   "metadata": {
    "collapsed": false
   },
   "outputs": [
    {
     "data": {
      "text/html": [
       "<div>\n",
       "<table border=\"1\" class=\"dataframe\">\n",
       "  <thead>\n",
       "    <tr style=\"text-align: right;\">\n",
       "      <th></th>\n",
       "      <th>abv</th>\n",
       "      <th>ibu</th>\n",
       "      <th>id</th>\n",
       "      <th>name</th>\n",
       "      <th>style</th>\n",
       "      <th>brewery_id</th>\n",
       "      <th>ounces</th>\n",
       "      <th>brewery_name</th>\n",
       "      <th>city</th>\n",
       "      <th>state</th>\n",
       "      <th>city-state</th>\n",
       "      <th>latitude</th>\n",
       "      <th>longitude</th>\n",
       "    </tr>\n",
       "  </thead>\n",
       "  <tbody>\n",
       "    <tr>\n",
       "      <th>21</th>\n",
       "      <td>9.9</td>\n",
       "      <td>92.0</td>\n",
       "      <td>1036</td>\n",
       "      <td>Lower De Boom</td>\n",
       "      <td>American Barleywine</td>\n",
       "      <td>368</td>\n",
       "      <td>8.4</td>\n",
       "      <td>21st Amendment Brewery</td>\n",
       "      <td>San Francisco</td>\n",
       "      <td>CA</td>\n",
       "      <td>San Francisco, CA</td>\n",
       "      <td>37.779281</td>\n",
       "      <td>-122.419236</td>\n",
       "    </tr>\n",
       "    <tr>\n",
       "      <th>22</th>\n",
       "      <td>7.9</td>\n",
       "      <td>45.0</td>\n",
       "      <td>1024</td>\n",
       "      <td>Fireside Chat</td>\n",
       "      <td>Winter Warmer</td>\n",
       "      <td>368</td>\n",
       "      <td>12.0</td>\n",
       "      <td>21st Amendment Brewery</td>\n",
       "      <td>San Francisco</td>\n",
       "      <td>CA</td>\n",
       "      <td>San Francisco, CA</td>\n",
       "      <td>37.779281</td>\n",
       "      <td>-122.419236</td>\n",
       "    </tr>\n",
       "    <tr>\n",
       "      <th>24</th>\n",
       "      <td>4.4</td>\n",
       "      <td>42.0</td>\n",
       "      <td>876</td>\n",
       "      <td>Bitter American</td>\n",
       "      <td>American Pale Ale (APA)</td>\n",
       "      <td>368</td>\n",
       "      <td>12.0</td>\n",
       "      <td>21st Amendment Brewery</td>\n",
       "      <td>San Francisco</td>\n",
       "      <td>CA</td>\n",
       "      <td>San Francisco, CA</td>\n",
       "      <td>37.779281</td>\n",
       "      <td>-122.419236</td>\n",
       "    </tr>\n",
       "    <tr>\n",
       "      <th>25</th>\n",
       "      <td>4.9</td>\n",
       "      <td>17.0</td>\n",
       "      <td>802</td>\n",
       "      <td>Hell or High Watermelon Wheat (2009)</td>\n",
       "      <td>Fruit / Vegetable Beer</td>\n",
       "      <td>368</td>\n",
       "      <td>12.0</td>\n",
       "      <td>21st Amendment Brewery</td>\n",
       "      <td>San Francisco</td>\n",
       "      <td>CA</td>\n",
       "      <td>San Francisco, CA</td>\n",
       "      <td>37.779281</td>\n",
       "      <td>-122.419236</td>\n",
       "    </tr>\n",
       "    <tr>\n",
       "      <th>26</th>\n",
       "      <td>4.9</td>\n",
       "      <td>17.0</td>\n",
       "      <td>801</td>\n",
       "      <td>Hell or High Watermelon Wheat (2009)</td>\n",
       "      <td>Fruit / Vegetable Beer</td>\n",
       "      <td>368</td>\n",
       "      <td>12.0</td>\n",
       "      <td>21st Amendment Brewery</td>\n",
       "      <td>San Francisco</td>\n",
       "      <td>CA</td>\n",
       "      <td>San Francisco, CA</td>\n",
       "      <td>37.779281</td>\n",
       "      <td>-122.419236</td>\n",
       "    </tr>\n",
       "  </tbody>\n",
       "</table>\n",
       "</div>"
      ],
      "text/plain": [
       "    abv   ibu    id                                  name  \\\n",
       "21  9.9  92.0  1036                         Lower De Boom   \n",
       "22  7.9  45.0  1024                         Fireside Chat   \n",
       "24  4.4  42.0   876                       Bitter American   \n",
       "25  4.9  17.0   802  Hell or High Watermelon Wheat (2009)   \n",
       "26  4.9  17.0   801  Hell or High Watermelon Wheat (2009)   \n",
       "\n",
       "                      style  brewery_id  ounces            brewery_name  \\\n",
       "21      American Barleywine         368     8.4  21st Amendment Brewery   \n",
       "22            Winter Warmer         368    12.0  21st Amendment Brewery   \n",
       "24  American Pale Ale (APA)         368    12.0  21st Amendment Brewery   \n",
       "25   Fruit / Vegetable Beer         368    12.0  21st Amendment Brewery   \n",
       "26   Fruit / Vegetable Beer         368    12.0  21st Amendment Brewery   \n",
       "\n",
       "             city state         city-state   latitude   longitude  \n",
       "21  San Francisco    CA  San Francisco, CA  37.779281 -122.419236  \n",
       "22  San Francisco    CA  San Francisco, CA  37.779281 -122.419236  \n",
       "24  San Francisco    CA  San Francisco, CA  37.779281 -122.419236  \n",
       "25  San Francisco    CA  San Francisco, CA  37.779281 -122.419236  \n",
       "26  San Francisco    CA  San Francisco, CA  37.779281 -122.419236  "
      ]
     },
     "execution_count": 12,
     "metadata": {},
     "output_type": "execute_result"
    }
   ],
   "source": [
    "ca.head()"
   ]
  },
  {
   "cell_type": "code",
   "execution_count": 1,
   "metadata": {
    "collapsed": false
   },
   "outputs": [
    {
     "name": "stdout",
     "output_type": "stream",
     "text": [
      "Pixiedust database opened successfully\n"
     ]
    },
    {
     "data": {
      "text/html": [
       "\n",
       "        <div style=\"margin:10px\">\n",
       "            <a href=\"https://github.com/ibm-cds-labs/pixiedust\" target=\"_new\">\n",
       "                <img src=\"https://github.com/ibm-cds-labs/pixiedust/raw/master/docs/_static/pd_icon32.png\" style=\"float:left;margin-right:10px\"/>\n",
       "            </a>\n",
       "            <span>Pixiedust version 0.86</span>\n",
       "        </div>\n",
       "        "
      ],
      "text/plain": [
       "<IPython.core.display.HTML object>"
      ]
     },
     "metadata": {},
     "output_type": "display_data"
    },
    {
     "name": "stdout",
     "output_type": "stream",
     "text": [
      "Downloading 'https://raw.githubusercontent.com/benhuds/craftbeer-data/master/ca-data.csv?token=AC-hiLTrSaF8UQGwKUvFCas6KJ3UycCDks5YwcS-wA%3D%3D' from https://raw.githubusercontent.com/benhuds/craftbeer-data/master/ca-data.csv?token=AC-hiLTrSaF8UQGwKUvFCas6KJ3UycCDks5YwcS-wA%3D%3D\n"
     ]
    },
    {
     "data": {
      "text/html": [
       "\n",
       "                <div>\n",
       "                    <span id=\"pm_labele4ad03a7\">Starting download...</span>\n",
       "                    <progress id=\"pm_progresse4ad03a7\" max=\"100\" value=\"0\" style=\"width:200px\"></progress>\n",
       "                </div>"
      ],
      "text/plain": [
       "<IPython.core.display.HTML object>"
      ]
     },
     "metadata": {},
     "output_type": "display_data"
    },
    {
     "data": {
      "application/javascript": [
       "\n",
       "                    $(\"#pm_labele4ad03a7\").text(\"Downloaded 8192 of 19996 bytes\");\n",
       "                    $(\"#pm_progresse4ad03a7\").attr(\"value\", 40.97);\n",
       "                "
      ],
      "text/plain": [
       "<IPython.core.display.Javascript object>"
      ]
     },
     "metadata": {},
     "output_type": "display_data"
    },
    {
     "data": {
      "application/javascript": [
       "\n",
       "                    $(\"#pm_labele4ad03a7\").text(\"Downloaded 16384 of 19996 bytes\");\n",
       "                    $(\"#pm_progresse4ad03a7\").attr(\"value\", 81.94);\n",
       "                "
      ],
      "text/plain": [
       "<IPython.core.display.Javascript object>"
      ]
     },
     "metadata": {},
     "output_type": "display_data"
    },
    {
     "data": {
      "application/javascript": [
       "\n",
       "                    $(\"#pm_labele4ad03a7\").text(\"Downloaded 19996 of 19996 bytes\");\n",
       "                    $(\"#pm_progresse4ad03a7\").attr(\"value\", 100.0);\n",
       "                "
      ],
      "text/plain": [
       "<IPython.core.display.Javascript object>"
      ]
     },
     "metadata": {},
     "output_type": "display_data"
    },
    {
     "name": "stdout",
     "output_type": "stream",
     "text": [
      "Creating pySpark DataFrame for 'https://raw.githubusercontent.com/benhuds/craftbeer-data/master/ca-data.csv?token=AC-hiLTrSaF8UQGwKUvFCas6KJ3UycCDks5YwcS-wA%3D%3D'. Please wait...\n",
      "Successfully created pySpark DataFrame for 'https://raw.githubusercontent.com/benhuds/craftbeer-data/master/ca-data.csv?token=AC-hiLTrSaF8UQGwKUvFCas6KJ3UycCDks5YwcS-wA%3D%3D'\n"
     ]
    }
   ],
   "source": [
    "# Pixiedust experimentation\n",
    "\n",
    "import pixiedust"
   ]
  },
  {
   "cell_type": "code",
   "execution_count": 20,
   "metadata": {
    "collapsed": false
   },
   "outputs": [],
   "source": [
    "sqlContext = SQLContext(sc)\n",
    "\n",
    "sparkA = sqlContext.createDataFrame(ca)"
   ]
  },
  {
   "cell_type": "code",
   "execution_count": 22,
   "metadata": {
    "collapsed": false,
    "pixiedust": {
     "displayParams": {
      "aggregation": "AVG",
      "handlerId": "mapView",
      "keyFields": "latitude,longitude",
      "kind": "densitymap",
      "mapboxtoken": "pk.eyJ1IjoiYmVuaHVkcyIsImEiOiJjaXpzdzJpczkwMDEyMnhvOXdoczY2dXF5In0.Ud3az0JTpHTDM6bBpefsKA",
      "orientation": "vertical",
      "rendererId": "mapbox",
      "rowCount": "135",
      "stretch": "true",
      "valueFields": "ibu"
     }
    }
   },
   "outputs": [
    {
     "data": {
      "text/html": [
       "<style type=\"text/css\">.pd_warning{display:none;}</style><div class=\"pd_warning\"><em>Hey, there's something awesome here! To see it, open this notebook outside GitHub, in a viewer like Jupyter</em></div>"
      ],
      "text/plain": [
       "<IPython.core.display.HTML object>"
      ]
     },
     "metadata": {},
     "output_type": "display_data"
    }
   ],
   "source": [
    "display(sparkA)"
   ]
  },
  {
   "cell_type": "code",
   "execution_count": 25,
   "metadata": {
    "collapsed": false
   },
   "outputs": [
    {
     "data": {
      "text/html": [
       "<div>\n",
       "<table border=\"1\" class=\"dataframe\">\n",
       "  <thead>\n",
       "    <tr style=\"text-align: right;\">\n",
       "      <th></th>\n",
       "      <th>abv</th>\n",
       "      <th>ibu</th>\n",
       "      <th>id</th>\n",
       "      <th>name</th>\n",
       "      <th>style</th>\n",
       "      <th>brewery_id</th>\n",
       "      <th>ounces</th>\n",
       "      <th>brewery_name</th>\n",
       "      <th>city</th>\n",
       "      <th>state</th>\n",
       "      <th>city-state</th>\n",
       "      <th>latitude</th>\n",
       "      <th>longitude</th>\n",
       "    </tr>\n",
       "  </thead>\n",
       "  <tbody>\n",
       "    <tr>\n",
       "      <th>136</th>\n",
       "      <td>5.2</td>\n",
       "      <td>10.0</td>\n",
       "      <td>1172</td>\n",
       "      <td>Mo's Gose</td>\n",
       "      <td>Gose</td>\n",
       "      <td>461</td>\n",
       "      <td>16.0</td>\n",
       "      <td>Armstrong Brewing Company</td>\n",
       "      <td>South San Francisco</td>\n",
       "      <td>CA</td>\n",
       "      <td>South San Francisco, CA</td>\n",
       "      <td>37.654949</td>\n",
       "      <td>-122.408125</td>\n",
       "    </tr>\n",
       "  </tbody>\n",
       "</table>\n",
       "</div>"
      ],
      "text/plain": [
       "     abv   ibu    id       name style  brewery_id  ounces  \\\n",
       "136  5.2  10.0  1172  Mo's Gose  Gose         461    16.0   \n",
       "\n",
       "                  brewery_name                 city state  \\\n",
       "136  Armstrong Brewing Company  South San Francisco    CA   \n",
       "\n",
       "                  city-state   latitude   longitude  \n",
       "136  South San Francisco, CA  37.654949 -122.408125  "
      ]
     },
     "execution_count": 25,
     "metadata": {},
     "output_type": "execute_result"
    }
   ],
   "source": [
    "pd.set_option('display.max_rows', 500)\n",
    "ca[ca['city'] == \"South San Francisco\"]"
   ]
  },
  {
   "cell_type": "code",
   "execution_count": 43,
   "metadata": {
    "collapsed": false
   },
   "outputs": [
    {
     "data": {
      "text/html": [
       "<div>\n",
       "<table border=\"1\" class=\"dataframe\">\n",
       "  <thead>\n",
       "    <tr style=\"text-align: right;\">\n",
       "      <th></th>\n",
       "      <th>brewery_name</th>\n",
       "      <th>city-state</th>\n",
       "      <th>latitude</th>\n",
       "      <th>longitude</th>\n",
       "      <th>review</th>\n",
       "    </tr>\n",
       "  </thead>\n",
       "  <tbody>\n",
       "    <tr>\n",
       "      <th>21</th>\n",
       "      <td>21st Amendment Brewery</td>\n",
       "      <td>San Francisco, CA</td>\n",
       "      <td>37.779281</td>\n",
       "      <td>-122.419236</td>\n",
       "      <td>4.0</td>\n",
       "    </tr>\n",
       "    <tr>\n",
       "      <th>105</th>\n",
       "      <td>Anderson Valley Brewing Company</td>\n",
       "      <td>Boonville, CA</td>\n",
       "      <td>39.009167</td>\n",
       "      <td>-123.366111</td>\n",
       "      <td>4.0</td>\n",
       "    </tr>\n",
       "    <tr>\n",
       "      <th>136</th>\n",
       "      <td>Armstrong Brewing Company</td>\n",
       "      <td>South San Francisco, CA</td>\n",
       "      <td>37.654949</td>\n",
       "      <td>-122.408125</td>\n",
       "      <td>5.0</td>\n",
       "    </tr>\n",
       "    <tr>\n",
       "      <th>183</th>\n",
       "      <td>Ballast Point Brewing Company</td>\n",
       "      <td>San Diego, CA</td>\n",
       "      <td>32.717421</td>\n",
       "      <td>-117.162771</td>\n",
       "      <td>5.0</td>\n",
       "    </tr>\n",
       "    <tr>\n",
       "      <th>276</th>\n",
       "      <td>Black Market Brewing Company</td>\n",
       "      <td>Temecula, CA</td>\n",
       "      <td>33.494635</td>\n",
       "      <td>-117.147366</td>\n",
       "      <td>4.0</td>\n",
       "    </tr>\n",
       "    <tr>\n",
       "      <th>487</th>\n",
       "      <td>Butcher's Brewing</td>\n",
       "      <td>Carlsbad, CA</td>\n",
       "      <td>33.158093</td>\n",
       "      <td>-117.350594</td>\n",
       "      <td>4.5</td>\n",
       "    </tr>\n",
       "    <tr>\n",
       "      <th>577</th>\n",
       "      <td>Central Coast Brewing Company</td>\n",
       "      <td>San Luis Obispo, CA</td>\n",
       "      <td>35.282753</td>\n",
       "      <td>-120.659616</td>\n",
       "      <td>5.0</td>\n",
       "    </tr>\n",
       "    <tr>\n",
       "      <th>630</th>\n",
       "      <td>Claremont Craft Ales</td>\n",
       "      <td>Claremont, CA</td>\n",
       "      <td>34.096676</td>\n",
       "      <td>-117.719778</td>\n",
       "      <td>4.5</td>\n",
       "    </tr>\n",
       "    <tr>\n",
       "      <th>722</th>\n",
       "      <td>Devil's Canyon Brewery</td>\n",
       "      <td>Belmont, CA</td>\n",
       "      <td>37.520215</td>\n",
       "      <td>-122.275801</td>\n",
       "      <td>4.0</td>\n",
       "    </tr>\n",
       "    <tr>\n",
       "      <th>792</th>\n",
       "      <td>Figueroa Mountain Brewing Company</td>\n",
       "      <td>Buellton, CA</td>\n",
       "      <td>34.613473</td>\n",
       "      <td>-120.193669</td>\n",
       "      <td>4.5</td>\n",
       "    </tr>\n",
       "    <tr>\n",
       "      <th>804</th>\n",
       "      <td>Firestone Walker Brewing Company</td>\n",
       "      <td>Paso Robles, CA</td>\n",
       "      <td>35.626765</td>\n",
       "      <td>-120.691245</td>\n",
       "      <td>4.0</td>\n",
       "    </tr>\n",
       "    <tr>\n",
       "      <th>837</th>\n",
       "      <td>Fort Point Beer Company</td>\n",
       "      <td>San Francisco, CA</td>\n",
       "      <td>37.779281</td>\n",
       "      <td>-122.419236</td>\n",
       "      <td>4.5</td>\n",
       "    </tr>\n",
       "    <tr>\n",
       "      <th>890</th>\n",
       "      <td>Golden Road Brewing</td>\n",
       "      <td>Los Angeles, CA</td>\n",
       "      <td>34.054935</td>\n",
       "      <td>-118.244476</td>\n",
       "      <td>5.0</td>\n",
       "    </tr>\n",
       "    <tr>\n",
       "      <th>1013</th>\n",
       "      <td>Hangar 24 Craft Brewery</td>\n",
       "      <td>Redlands, CA</td>\n",
       "      <td>34.070720</td>\n",
       "      <td>-117.099506</td>\n",
       "      <td>4.5</td>\n",
       "    </tr>\n",
       "    <tr>\n",
       "      <th>1037</th>\n",
       "      <td>Headlands Brewing Company</td>\n",
       "      <td>Mill Valley, CA</td>\n",
       "      <td>37.906037</td>\n",
       "      <td>-122.544976</td>\n",
       "      <td>5.0</td>\n",
       "    </tr>\n",
       "    <tr>\n",
       "      <th>1043</th>\n",
       "      <td>Hess Brewing Company</td>\n",
       "      <td>San Diego, CA</td>\n",
       "      <td>32.717421</td>\n",
       "      <td>-117.162771</td>\n",
       "      <td>4.5</td>\n",
       "    </tr>\n",
       "    <tr>\n",
       "      <th>1268</th>\n",
       "      <td>Manzanita Brewing Company</td>\n",
       "      <td>Santee, CA</td>\n",
       "      <td>32.838383</td>\n",
       "      <td>-116.973917</td>\n",
       "      <td>4.5</td>\n",
       "    </tr>\n",
       "    <tr>\n",
       "      <th>1313</th>\n",
       "      <td>Mavericks Beer Company</td>\n",
       "      <td>Half Moon Bay, CA</td>\n",
       "      <td>37.463552</td>\n",
       "      <td>-122.428586</td>\n",
       "      <td>5.0</td>\n",
       "    </tr>\n",
       "    <tr>\n",
       "      <th>1335</th>\n",
       "      <td>Mike Hess Brewing Company</td>\n",
       "      <td>San Diego, CA</td>\n",
       "      <td>32.717421</td>\n",
       "      <td>-117.162771</td>\n",
       "      <td>4.5</td>\n",
       "    </tr>\n",
       "    <tr>\n",
       "      <th>1375</th>\n",
       "      <td>Mission Brewery</td>\n",
       "      <td>San Diego, CA</td>\n",
       "      <td>32.717421</td>\n",
       "      <td>-117.162771</td>\n",
       "      <td>4.0</td>\n",
       "    </tr>\n",
       "    <tr>\n",
       "      <th>1385</th>\n",
       "      <td>Modern Times Beer</td>\n",
       "      <td>San Diego, CA</td>\n",
       "      <td>32.717421</td>\n",
       "      <td>-117.162771</td>\n",
       "      <td>4.0</td>\n",
       "    </tr>\n",
       "    <tr>\n",
       "      <th>1404</th>\n",
       "      <td>Mother Earth Brew Company</td>\n",
       "      <td>Vista, CA</td>\n",
       "      <td>33.200037</td>\n",
       "      <td>-117.242535</td>\n",
       "      <td>4.0</td>\n",
       "    </tr>\n",
       "    <tr>\n",
       "      <th>1705</th>\n",
       "      <td>Refuge Brewery</td>\n",
       "      <td>Temecula, CA</td>\n",
       "      <td>33.494635</td>\n",
       "      <td>-117.147366</td>\n",
       "      <td>4.5</td>\n",
       "    </tr>\n",
       "    <tr>\n",
       "      <th>1777</th>\n",
       "      <td>Ruhstaller Beer Company</td>\n",
       "      <td>Sacramento, CA</td>\n",
       "      <td>38.581572</td>\n",
       "      <td>-121.494400</td>\n",
       "      <td>4.5</td>\n",
       "    </tr>\n",
       "    <tr>\n",
       "      <th>1782</th>\n",
       "      <td>Saint Archer Brewery</td>\n",
       "      <td>San Diego, CA</td>\n",
       "      <td>32.717421</td>\n",
       "      <td>-117.162771</td>\n",
       "      <td>4.0</td>\n",
       "    </tr>\n",
       "    <tr>\n",
       "      <th>1807</th>\n",
       "      <td>Santa Cruz Mountain Brewing</td>\n",
       "      <td>Santa Cruz, CA</td>\n",
       "      <td>36.973590</td>\n",
       "      <td>-122.026057</td>\n",
       "      <td>4.0</td>\n",
       "    </tr>\n",
       "    <tr>\n",
       "      <th>1828</th>\n",
       "      <td>Seabright Brewery</td>\n",
       "      <td>Santa Cruz, CA</td>\n",
       "      <td>36.973590</td>\n",
       "      <td>-122.026057</td>\n",
       "      <td>3.5</td>\n",
       "    </tr>\n",
       "    <tr>\n",
       "      <th>1845</th>\n",
       "      <td>Sierra Nevada Brewing Company</td>\n",
       "      <td>Chico, CA</td>\n",
       "      <td>39.728494</td>\n",
       "      <td>-121.837478</td>\n",
       "      <td>4.5</td>\n",
       "    </tr>\n",
       "    <tr>\n",
       "      <th>1968</th>\n",
       "      <td>Speakasy Ales &amp; Lagers</td>\n",
       "      <td>San Francisco, CA</td>\n",
       "      <td>37.779281</td>\n",
       "      <td>-122.419236</td>\n",
       "      <td>3.5</td>\n",
       "    </tr>\n",
       "    <tr>\n",
       "      <th>2095</th>\n",
       "      <td>TailGate Beer</td>\n",
       "      <td>San Diego, CA</td>\n",
       "      <td>32.717421</td>\n",
       "      <td>-117.162771</td>\n",
       "      <td>5.0</td>\n",
       "    </tr>\n",
       "    <tr>\n",
       "      <th>2156</th>\n",
       "      <td>The Dudes' Brewing Company</td>\n",
       "      <td>Torrance, CA</td>\n",
       "      <td>33.835849</td>\n",
       "      <td>-118.340629</td>\n",
       "      <td>5.0</td>\n",
       "    </tr>\n",
       "  </tbody>\n",
       "</table>\n",
       "</div>"
      ],
      "text/plain": [
       "                           brewery_name               city-state   latitude  \\\n",
       "21               21st Amendment Brewery        San Francisco, CA  37.779281   \n",
       "105     Anderson Valley Brewing Company            Boonville, CA  39.009167   \n",
       "136           Armstrong Brewing Company  South San Francisco, CA  37.654949   \n",
       "183       Ballast Point Brewing Company            San Diego, CA  32.717421   \n",
       "276        Black Market Brewing Company             Temecula, CA  33.494635   \n",
       "487                   Butcher's Brewing             Carlsbad, CA  33.158093   \n",
       "577       Central Coast Brewing Company      San Luis Obispo, CA  35.282753   \n",
       "630                Claremont Craft Ales            Claremont, CA  34.096676   \n",
       "722              Devil's Canyon Brewery              Belmont, CA  37.520215   \n",
       "792   Figueroa Mountain Brewing Company             Buellton, CA  34.613473   \n",
       "804    Firestone Walker Brewing Company          Paso Robles, CA  35.626765   \n",
       "837             Fort Point Beer Company        San Francisco, CA  37.779281   \n",
       "890                 Golden Road Brewing          Los Angeles, CA  34.054935   \n",
       "1013            Hangar 24 Craft Brewery             Redlands, CA  34.070720   \n",
       "1037          Headlands Brewing Company          Mill Valley, CA  37.906037   \n",
       "1043               Hess Brewing Company            San Diego, CA  32.717421   \n",
       "1268          Manzanita Brewing Company               Santee, CA  32.838383   \n",
       "1313             Mavericks Beer Company        Half Moon Bay, CA  37.463552   \n",
       "1335          Mike Hess Brewing Company            San Diego, CA  32.717421   \n",
       "1375                    Mission Brewery            San Diego, CA  32.717421   \n",
       "1385                  Modern Times Beer            San Diego, CA  32.717421   \n",
       "1404          Mother Earth Brew Company                Vista, CA  33.200037   \n",
       "1705                     Refuge Brewery             Temecula, CA  33.494635   \n",
       "1777            Ruhstaller Beer Company           Sacramento, CA  38.581572   \n",
       "1782               Saint Archer Brewery            San Diego, CA  32.717421   \n",
       "1807        Santa Cruz Mountain Brewing           Santa Cruz, CA  36.973590   \n",
       "1828                  Seabright Brewery           Santa Cruz, CA  36.973590   \n",
       "1845      Sierra Nevada Brewing Company                Chico, CA  39.728494   \n",
       "1968             Speakasy Ales & Lagers        San Francisco, CA  37.779281   \n",
       "2095                      TailGate Beer            San Diego, CA  32.717421   \n",
       "2156         The Dudes' Brewing Company             Torrance, CA  33.835849   \n",
       "\n",
       "       longitude  review  \n",
       "21   -122.419236     4.0  \n",
       "105  -123.366111     4.0  \n",
       "136  -122.408125     5.0  \n",
       "183  -117.162771     5.0  \n",
       "276  -117.147366     4.0  \n",
       "487  -117.350594     4.5  \n",
       "577  -120.659616     5.0  \n",
       "630  -117.719778     4.5  \n",
       "722  -122.275801     4.0  \n",
       "792  -120.193669     4.5  \n",
       "804  -120.691245     4.0  \n",
       "837  -122.419236     4.5  \n",
       "890  -118.244476     5.0  \n",
       "1013 -117.099506     4.5  \n",
       "1037 -122.544976     5.0  \n",
       "1043 -117.162771     4.5  \n",
       "1268 -116.973917     4.5  \n",
       "1313 -122.428586     5.0  \n",
       "1335 -117.162771     4.5  \n",
       "1375 -117.162771     4.0  \n",
       "1385 -117.162771     4.0  \n",
       "1404 -117.242535     4.0  \n",
       "1705 -117.147366     4.5  \n",
       "1777 -121.494400     4.5  \n",
       "1782 -117.162771     4.0  \n",
       "1807 -122.026057     4.0  \n",
       "1828 -122.026057     3.5  \n",
       "1845 -121.837478     4.5  \n",
       "1968 -122.419236     3.5  \n",
       "2095 -117.162771     5.0  \n",
       "2156 -118.340629     5.0  "
      ]
     },
     "execution_count": 43,
     "metadata": {},
     "output_type": "execute_result"
    }
   ],
   "source": [
    "import reviews\n",
    "\n",
    "def test(r):\n",
    "    return reviews.query_api(r['brewery_name'],r['city-state'])\n",
    "\n",
    "bs = ca[['brewery_name','city-state','latitude','longitude']]\n",
    "bs = bs.drop_duplicates()\n",
    "bs['review'] = bs.apply(test,axis=1)\n",
    "bs"
   ]
  },
  {
   "cell_type": "code",
   "execution_count": 46,
   "metadata": {
    "collapsed": false,
    "pixiedust": {
     "displayParams": {
      "handlerId": "mapView"
     }
    }
   },
   "outputs": [],
   "source": [
    "bs2 = sqlContext.createDataFrame(bs)\n",
    "display(bs2)"
   ]
  },
  {
   "cell_type": "code",
   "execution_count": null,
   "metadata": {
    "collapsed": true
   },
   "outputs": [],
   "source": []
  }
 ],
 "metadata": {
  "anaconda-cloud": {},
  "kernelspec": {
   "display_name": "Python with Pixiedust (Spark 1.6)",
   "language": "python",
   "name": "pythonwithpixiedustspark16"
  },
  "language_info": {
   "codemirror_mode": {
    "name": "ipython",
    "version": 2
   },
   "file_extension": ".py",
   "mimetype": "text/x-python",
   "name": "python",
   "nbconvert_exporter": "python",
   "pygments_lexer": "ipython2",
   "version": "2.7.12"
  }
 },
 "nbformat": 4,
 "nbformat_minor": 0
}
