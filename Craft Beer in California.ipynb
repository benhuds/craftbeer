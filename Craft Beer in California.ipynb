{
 "cells": [
  {
   "cell_type": "code",
   "execution_count": 1,
   "metadata": {
    "collapsed": true
   },
   "outputs": [],
   "source": [
    "import pandas as pd\n",
    "import numpy as np\n",
    "import matplotlib.pyplot as plt\n",
    "\n",
    "plt.rcParams['figure.figsize'] = (30, 20)\n",
    "plt.rcParams['font.family'] = 'sans-serif'\n",
    "\n",
    "%matplotlib inline\n",
    "\n",
    "# data from https://www.kaggle.com/nickhould/craft-cans (scraped from CraftCans.com in January 2017)\n",
    "beers = pd.read_csv(\"beers.csv\")\n",
    "breweries = pd.read_csv(\"breweries.csv\")"
   ]
  },
  {
   "cell_type": "code",
   "execution_count": 2,
   "metadata": {
    "collapsed": false
   },
   "outputs": [
    {
     "data": {
      "text/html": [
       "<div>\n",
       "<table border=\"1\" class=\"dataframe\">\n",
       "  <thead>\n",
       "    <tr style=\"text-align: right;\">\n",
       "      <th></th>\n",
       "      <th>Unnamed: 0</th>\n",
       "      <th>abv</th>\n",
       "      <th>ibu</th>\n",
       "      <th>id</th>\n",
       "      <th>name</th>\n",
       "      <th>style</th>\n",
       "      <th>brewery_id</th>\n",
       "      <th>ounces</th>\n",
       "    </tr>\n",
       "  </thead>\n",
       "  <tbody>\n",
       "    <tr>\n",
       "      <th>0</th>\n",
       "      <td>0</td>\n",
       "      <td>0.050</td>\n",
       "      <td>NaN</td>\n",
       "      <td>1436</td>\n",
       "      <td>Pub Beer</td>\n",
       "      <td>American Pale Lager</td>\n",
       "      <td>408</td>\n",
       "      <td>12.0</td>\n",
       "    </tr>\n",
       "    <tr>\n",
       "      <th>1</th>\n",
       "      <td>1</td>\n",
       "      <td>0.066</td>\n",
       "      <td>NaN</td>\n",
       "      <td>2265</td>\n",
       "      <td>Devil's Cup</td>\n",
       "      <td>American Pale Ale (APA)</td>\n",
       "      <td>177</td>\n",
       "      <td>12.0</td>\n",
       "    </tr>\n",
       "    <tr>\n",
       "      <th>2</th>\n",
       "      <td>2</td>\n",
       "      <td>0.071</td>\n",
       "      <td>NaN</td>\n",
       "      <td>2264</td>\n",
       "      <td>Rise of the Phoenix</td>\n",
       "      <td>American IPA</td>\n",
       "      <td>177</td>\n",
       "      <td>12.0</td>\n",
       "    </tr>\n",
       "    <tr>\n",
       "      <th>3</th>\n",
       "      <td>3</td>\n",
       "      <td>0.090</td>\n",
       "      <td>NaN</td>\n",
       "      <td>2263</td>\n",
       "      <td>Sinister</td>\n",
       "      <td>American Double / Imperial IPA</td>\n",
       "      <td>177</td>\n",
       "      <td>12.0</td>\n",
       "    </tr>\n",
       "    <tr>\n",
       "      <th>4</th>\n",
       "      <td>4</td>\n",
       "      <td>0.075</td>\n",
       "      <td>NaN</td>\n",
       "      <td>2262</td>\n",
       "      <td>Sex and Candy</td>\n",
       "      <td>American IPA</td>\n",
       "      <td>177</td>\n",
       "      <td>12.0</td>\n",
       "    </tr>\n",
       "  </tbody>\n",
       "</table>\n",
       "</div>"
      ],
      "text/plain": [
       "   Unnamed: 0    abv  ibu    id                 name  \\\n",
       "0           0  0.050  NaN  1436             Pub Beer   \n",
       "1           1  0.066  NaN  2265          Devil's Cup   \n",
       "2           2  0.071  NaN  2264  Rise of the Phoenix   \n",
       "3           3  0.090  NaN  2263             Sinister   \n",
       "4           4  0.075  NaN  2262        Sex and Candy   \n",
       "\n",
       "                            style  brewery_id  ounces  \n",
       "0             American Pale Lager         408    12.0  \n",
       "1         American Pale Ale (APA)         177    12.0  \n",
       "2                    American IPA         177    12.0  \n",
       "3  American Double / Imperial IPA         177    12.0  \n",
       "4                    American IPA         177    12.0  "
      ]
     },
     "execution_count": 2,
     "metadata": {},
     "output_type": "execute_result"
    }
   ],
   "source": [
    "beers.head()"
   ]
  },
  {
   "cell_type": "code",
   "execution_count": 3,
   "metadata": {
    "collapsed": false
   },
   "outputs": [
    {
     "data": {
      "text/html": [
       "<div>\n",
       "<table border=\"1\" class=\"dataframe\">\n",
       "  <thead>\n",
       "    <tr style=\"text-align: right;\">\n",
       "      <th></th>\n",
       "      <th>Unnamed: 0</th>\n",
       "      <th>name</th>\n",
       "      <th>city</th>\n",
       "      <th>state</th>\n",
       "    </tr>\n",
       "  </thead>\n",
       "  <tbody>\n",
       "    <tr>\n",
       "      <th>0</th>\n",
       "      <td>0</td>\n",
       "      <td>NorthGate Brewing</td>\n",
       "      <td>Minneapolis</td>\n",
       "      <td>MN</td>\n",
       "    </tr>\n",
       "    <tr>\n",
       "      <th>1</th>\n",
       "      <td>1</td>\n",
       "      <td>Against the Grain Brewery</td>\n",
       "      <td>Louisville</td>\n",
       "      <td>KY</td>\n",
       "    </tr>\n",
       "    <tr>\n",
       "      <th>2</th>\n",
       "      <td>2</td>\n",
       "      <td>Jack's Abby Craft Lagers</td>\n",
       "      <td>Framingham</td>\n",
       "      <td>MA</td>\n",
       "    </tr>\n",
       "    <tr>\n",
       "      <th>3</th>\n",
       "      <td>3</td>\n",
       "      <td>Mike Hess Brewing Company</td>\n",
       "      <td>San Diego</td>\n",
       "      <td>CA</td>\n",
       "    </tr>\n",
       "    <tr>\n",
       "      <th>4</th>\n",
       "      <td>4</td>\n",
       "      <td>Fort Point Beer Company</td>\n",
       "      <td>San Francisco</td>\n",
       "      <td>CA</td>\n",
       "    </tr>\n",
       "  </tbody>\n",
       "</table>\n",
       "</div>"
      ],
      "text/plain": [
       "   Unnamed: 0                       name           city state\n",
       "0           0         NorthGate Brewing     Minneapolis    MN\n",
       "1           1  Against the Grain Brewery     Louisville    KY\n",
       "2           2   Jack's Abby Craft Lagers     Framingham    MA\n",
       "3           3  Mike Hess Brewing Company      San Diego    CA\n",
       "4           4    Fort Point Beer Company  San Francisco    CA"
      ]
     },
     "execution_count": 3,
     "metadata": {},
     "output_type": "execute_result"
    }
   ],
   "source": [
    "breweries.head()"
   ]
  },
  {
   "cell_type": "code",
   "execution_count": 4,
   "metadata": {
    "collapsed": false
   },
   "outputs": [],
   "source": [
    "# remove redundant column, rename columns for clarity\n",
    "beers = beers.drop('Unnamed: 0',axis=1)\n",
    "breweries = breweries.rename(columns = {'Unnamed: 0': 'brewery_id', 'name': 'brewery_name'})\n",
    "\n",
    "# merge dataframes, remove NaN values, make ABV more readable\n",
    "data = pd.merge(beers,breweries,on='brewery_id',how='inner')\n",
    "data = data[np.isfinite(data['ibu'])]\n",
    "data['abv'] = data['abv']*100"
   ]
  },
  {
   "cell_type": "code",
   "execution_count": 5,
   "metadata": {
    "collapsed": false
   },
   "outputs": [
    {
     "data": {
      "text/html": [
       "<div>\n",
       "<table border=\"1\" class=\"dataframe\">\n",
       "  <thead>\n",
       "    <tr style=\"text-align: right;\">\n",
       "      <th></th>\n",
       "      <th>abv</th>\n",
       "      <th>ibu</th>\n",
       "      <th>id</th>\n",
       "      <th>name</th>\n",
       "      <th>style</th>\n",
       "      <th>brewery_id</th>\n",
       "      <th>ounces</th>\n",
       "      <th>brewery_name</th>\n",
       "      <th>city</th>\n",
       "      <th>state</th>\n",
       "    </tr>\n",
       "  </thead>\n",
       "  <tbody>\n",
       "    <tr>\n",
       "      <th>14</th>\n",
       "      <td>6.1</td>\n",
       "      <td>60.0</td>\n",
       "      <td>1979</td>\n",
       "      <td>Bitter Bitch</td>\n",
       "      <td>American Pale Ale (APA)</td>\n",
       "      <td>177</td>\n",
       "      <td>12.0</td>\n",
       "      <td>18th Street Brewery</td>\n",
       "      <td>Gary</td>\n",
       "      <td>IN</td>\n",
       "    </tr>\n",
       "    <tr>\n",
       "      <th>21</th>\n",
       "      <td>9.9</td>\n",
       "      <td>92.0</td>\n",
       "      <td>1036</td>\n",
       "      <td>Lower De Boom</td>\n",
       "      <td>American Barleywine</td>\n",
       "      <td>368</td>\n",
       "      <td>8.4</td>\n",
       "      <td>21st Amendment Brewery</td>\n",
       "      <td>San Francisco</td>\n",
       "      <td>CA</td>\n",
       "    </tr>\n",
       "    <tr>\n",
       "      <th>22</th>\n",
       "      <td>7.9</td>\n",
       "      <td>45.0</td>\n",
       "      <td>1024</td>\n",
       "      <td>Fireside Chat</td>\n",
       "      <td>Winter Warmer</td>\n",
       "      <td>368</td>\n",
       "      <td>12.0</td>\n",
       "      <td>21st Amendment Brewery</td>\n",
       "      <td>San Francisco</td>\n",
       "      <td>CA</td>\n",
       "    </tr>\n",
       "    <tr>\n",
       "      <th>24</th>\n",
       "      <td>4.4</td>\n",
       "      <td>42.0</td>\n",
       "      <td>876</td>\n",
       "      <td>Bitter American</td>\n",
       "      <td>American Pale Ale (APA)</td>\n",
       "      <td>368</td>\n",
       "      <td>12.0</td>\n",
       "      <td>21st Amendment Brewery</td>\n",
       "      <td>San Francisco</td>\n",
       "      <td>CA</td>\n",
       "    </tr>\n",
       "    <tr>\n",
       "      <th>25</th>\n",
       "      <td>4.9</td>\n",
       "      <td>17.0</td>\n",
       "      <td>802</td>\n",
       "      <td>Hell or High Watermelon Wheat (2009)</td>\n",
       "      <td>Fruit / Vegetable Beer</td>\n",
       "      <td>368</td>\n",
       "      <td>12.0</td>\n",
       "      <td>21st Amendment Brewery</td>\n",
       "      <td>San Francisco</td>\n",
       "      <td>CA</td>\n",
       "    </tr>\n",
       "  </tbody>\n",
       "</table>\n",
       "</div>"
      ],
      "text/plain": [
       "    abv   ibu    id                                  name  \\\n",
       "14  6.1  60.0  1979                          Bitter Bitch   \n",
       "21  9.9  92.0  1036                         Lower De Boom   \n",
       "22  7.9  45.0  1024                         Fireside Chat   \n",
       "24  4.4  42.0   876                       Bitter American   \n",
       "25  4.9  17.0   802  Hell or High Watermelon Wheat (2009)   \n",
       "\n",
       "                      style  brewery_id  ounces            brewery_name  \\\n",
       "14  American Pale Ale (APA)         177    12.0     18th Street Brewery   \n",
       "21      American Barleywine         368     8.4  21st Amendment Brewery   \n",
       "22            Winter Warmer         368    12.0  21st Amendment Brewery   \n",
       "24  American Pale Ale (APA)         368    12.0  21st Amendment Brewery   \n",
       "25   Fruit / Vegetable Beer         368    12.0  21st Amendment Brewery   \n",
       "\n",
       "             city state  \n",
       "14           Gary    IN  \n",
       "21  San Francisco    CA  \n",
       "22  San Francisco    CA  \n",
       "24  San Francisco    CA  \n",
       "25  San Francisco    CA  "
      ]
     },
     "execution_count": 5,
     "metadata": {},
     "output_type": "execute_result"
    }
   ],
   "source": [
    "data.head()"
   ]
  },
  {
   "cell_type": "code",
   "execution_count": 6,
   "metadata": {
    "collapsed": false
   },
   "outputs": [
    {
     "data": {
      "text/plain": [
       "array([' IN', ' CA', ' FL', ' MO', ' WA', ' CO', ' LA', ' KY', ' OR',\n",
       "       ' AK', ' NC', ' MI', ' TX', ' AL', ' MA', ' AZ', ' MN', ' ME',\n",
       "       ' VA', ' IL', ' TN', ' MT', ' WY', ' NE', ' NY', ' NJ', ' NV',\n",
       "       ' OK', ' WI', ' OH', ' GA', ' RI', ' IA', ' ID', ' DC', ' KS',\n",
       "       ' ND', ' VT', ' MD', ' WV', ' CT', ' PA', ' HI', ' NM', ' MS',\n",
       "       ' AR', ' SC', ' DE', ' UT', ' NH'], dtype=object)"
      ]
     },
     "execution_count": 6,
     "metadata": {},
     "output_type": "execute_result"
    }
   ],
   "source": [
    "data['state'].unique()"
   ]
  },
  {
   "cell_type": "code",
   "execution_count": 7,
   "metadata": {
    "collapsed": true
   },
   "outputs": [],
   "source": [
    "# remove space in front of state names\n",
    "data['state'] = data['state'].str.slice(1,3)"
   ]
  },
  {
   "cell_type": "code",
   "execution_count": 8,
   "metadata": {
    "collapsed": false
   },
   "outputs": [
    {
     "data": {
      "text/plain": [
       "(135, 10)"
      ]
     },
     "execution_count": 8,
     "metadata": {},
     "output_type": "execute_result"
    }
   ],
   "source": [
    "ca = data[data['state'] == 'CA']\n",
    "ca.shape"
   ]
  },
  {
   "cell_type": "code",
   "execution_count": 9,
   "metadata": {
    "collapsed": false
   },
   "outputs": [
    {
     "data": {
      "text/plain": [
       "21st Amendment Brewery               17\n",
       "Golden Road Brewing                  14\n",
       "Anderson Valley Brewing Company      14\n",
       "Modern Times Beer                     8\n",
       "TailGate Beer                         7\n",
       "Mike Hess Brewing Company             6\n",
       "Sierra Nevada Brewing Company         6\n",
       "Manzanita Brewing Company             5\n",
       "Ruhstaller Beer Company               5\n",
       "Black Market Brewing Company          4\n",
       "Ballast Point Brewing Company         4\n",
       "Fort Point Beer Company               4\n",
       "Central Coast Brewing Company         4\n",
       "Saint Archer Brewery                  4\n",
       "Hess Brewing Company                  3\n",
       "Mission Brewery                       3\n",
       "Devil's Canyon Brewery                3\n",
       "The Dudes' Brewing Company            3\n",
       "Firestone Walker Brewing Company      3\n",
       "Headlands Brewing Company             3\n",
       "Mavericks Beer Company                3\n",
       "Hangar 24 Craft Brewery               2\n",
       "Figueroa Mountain Brewing Company     2\n",
       "Butcher's Brewing                     1\n",
       "Mother Earth Brew Company             1\n",
       "Seabright Brewery                     1\n",
       "Speakasy Ales & Lagers                1\n",
       "Santa Cruz Mountain Brewing           1\n",
       "Armstrong Brewing Company             1\n",
       "Refuge Brewery                        1\n",
       "Claremont Craft Ales                  1\n",
       "Name: brewery_name, dtype: int64"
      ]
     },
     "execution_count": 9,
     "metadata": {},
     "output_type": "execute_result"
    }
   ],
   "source": [
    "ca['brewery_name'].value_counts()"
   ]
  },
  {
   "cell_type": "code",
   "execution_count": 10,
   "metadata": {
    "collapsed": false
   },
   "outputs": [
    {
     "data": {
      "text/plain": [
       "San Diego              35\n",
       "San Francisco          22\n",
       "Boonville              14\n",
       "Los Angeles            14\n",
       "Chico                   6\n",
       "Temecula                5\n",
       "Santee                  5\n",
       "Sacramento              5\n",
       "San Luis Obispo         4\n",
       "Torrance                3\n",
       "Paso Robles             3\n",
       "Half Moon Bay           3\n",
       "Belmont                 3\n",
       "Mill Valley             3\n",
       "Redlands                2\n",
       "Santa Cruz              2\n",
       "Buellton                2\n",
       "Claremont               1\n",
       "Vista                   1\n",
       "South San Francisco     1\n",
       "Carlsbad                1\n",
       "Name: city, dtype: int64"
      ]
     },
     "execution_count": 10,
     "metadata": {},
     "output_type": "execute_result"
    }
   ],
   "source": [
    "ca['city'].value_counts()"
   ]
  },
  {
   "cell_type": "code",
   "execution_count": 11,
   "metadata": {
    "collapsed": false
   },
   "outputs": [
    {
     "name": "stderr",
     "output_type": "stream",
     "text": [
      "/anaconda/lib/python2.7/site-packages/ipykernel/__main__.py:5: SettingWithCopyWarning: \n",
      "A value is trying to be set on a copy of a slice from a DataFrame.\n",
      "Try using .loc[row_indexer,col_indexer] = value instead\n",
      "\n",
      "See the caveats in the documentation: http://pandas.pydata.org/pandas-docs/stable/indexing.html#indexing-view-versus-copy\n",
      "/anaconda/lib/python2.7/site-packages/ipykernel/__main__.py:12: SettingWithCopyWarning: \n",
      "A value is trying to be set on a copy of a slice from a DataFrame.\n",
      "Try using .loc[row_indexer,col_indexer] = value instead\n",
      "\n",
      "See the caveats in the documentation: http://pandas.pydata.org/pandas-docs/stable/indexing.html#indexing-view-versus-copy\n",
      "/anaconda/lib/python2.7/site-packages/ipykernel/__main__.py:13: SettingWithCopyWarning: \n",
      "A value is trying to be set on a copy of a slice from a DataFrame.\n",
      "Try using .loc[row_indexer,col_indexer] = value instead\n",
      "\n",
      "See the caveats in the documentation: http://pandas.pydata.org/pandas-docs/stable/indexing.html#indexing-view-versus-copy\n"
     ]
    }
   ],
   "source": [
    "from geopy.geocoders import Nominatim\n",
    "geolocator = Nominatim()\n",
    "\n",
    "# make it easier for geopy to find coordinates\n",
    "ca['city-state'] = ca['city']+\", \"+ca['state']\n",
    "cities = ca['city-state'].unique()\n",
    "\n",
    "# create dictionaries of latitudes and longitudes\n",
    "lats = dict(zip(cities, pd.Series(cities).apply(geolocator.geocode).apply(lambda x: x.latitude)))\n",
    "longs = dict(zip(cities, pd.Series(cities).apply(geolocator.geocode).apply(lambda x: x.longitude)))\n",
    "\n",
    "ca['latitude'] = ca['city-state'].map(lats)\n",
    "ca['longitude'] = ca['city-state'].map(longs)"
   ]
  },
  {
   "cell_type": "code",
   "execution_count": 12,
   "metadata": {
    "collapsed": false
   },
   "outputs": [
    {
     "data": {
      "text/html": [
       "<div>\n",
       "<table border=\"1\" class=\"dataframe\">\n",
       "  <thead>\n",
       "    <tr style=\"text-align: right;\">\n",
       "      <th></th>\n",
       "      <th>abv</th>\n",
       "      <th>ibu</th>\n",
       "      <th>id</th>\n",
       "      <th>name</th>\n",
       "      <th>style</th>\n",
       "      <th>brewery_id</th>\n",
       "      <th>ounces</th>\n",
       "      <th>brewery_name</th>\n",
       "      <th>city</th>\n",
       "      <th>state</th>\n",
       "      <th>city-state</th>\n",
       "      <th>latitude</th>\n",
       "      <th>longitude</th>\n",
       "    </tr>\n",
       "  </thead>\n",
       "  <tbody>\n",
       "    <tr>\n",
       "      <th>21</th>\n",
       "      <td>9.9</td>\n",
       "      <td>92.0</td>\n",
       "      <td>1036</td>\n",
       "      <td>Lower De Boom</td>\n",
       "      <td>American Barleywine</td>\n",
       "      <td>368</td>\n",
       "      <td>8.4</td>\n",
       "      <td>21st Amendment Brewery</td>\n",
       "      <td>San Francisco</td>\n",
       "      <td>CA</td>\n",
       "      <td>San Francisco, CA</td>\n",
       "      <td>37.779281</td>\n",
       "      <td>-122.419236</td>\n",
       "    </tr>\n",
       "    <tr>\n",
       "      <th>22</th>\n",
       "      <td>7.9</td>\n",
       "      <td>45.0</td>\n",
       "      <td>1024</td>\n",
       "      <td>Fireside Chat</td>\n",
       "      <td>Winter Warmer</td>\n",
       "      <td>368</td>\n",
       "      <td>12.0</td>\n",
       "      <td>21st Amendment Brewery</td>\n",
       "      <td>San Francisco</td>\n",
       "      <td>CA</td>\n",
       "      <td>San Francisco, CA</td>\n",
       "      <td>37.779281</td>\n",
       "      <td>-122.419236</td>\n",
       "    </tr>\n",
       "    <tr>\n",
       "      <th>24</th>\n",
       "      <td>4.4</td>\n",
       "      <td>42.0</td>\n",
       "      <td>876</td>\n",
       "      <td>Bitter American</td>\n",
       "      <td>American Pale Ale (APA)</td>\n",
       "      <td>368</td>\n",
       "      <td>12.0</td>\n",
       "      <td>21st Amendment Brewery</td>\n",
       "      <td>San Francisco</td>\n",
       "      <td>CA</td>\n",
       "      <td>San Francisco, CA</td>\n",
       "      <td>37.779281</td>\n",
       "      <td>-122.419236</td>\n",
       "    </tr>\n",
       "    <tr>\n",
       "      <th>25</th>\n",
       "      <td>4.9</td>\n",
       "      <td>17.0</td>\n",
       "      <td>802</td>\n",
       "      <td>Hell or High Watermelon Wheat (2009)</td>\n",
       "      <td>Fruit / Vegetable Beer</td>\n",
       "      <td>368</td>\n",
       "      <td>12.0</td>\n",
       "      <td>21st Amendment Brewery</td>\n",
       "      <td>San Francisco</td>\n",
       "      <td>CA</td>\n",
       "      <td>San Francisco, CA</td>\n",
       "      <td>37.779281</td>\n",
       "      <td>-122.419236</td>\n",
       "    </tr>\n",
       "    <tr>\n",
       "      <th>26</th>\n",
       "      <td>4.9</td>\n",
       "      <td>17.0</td>\n",
       "      <td>801</td>\n",
       "      <td>Hell or High Watermelon Wheat (2009)</td>\n",
       "      <td>Fruit / Vegetable Beer</td>\n",
       "      <td>368</td>\n",
       "      <td>12.0</td>\n",
       "      <td>21st Amendment Brewery</td>\n",
       "      <td>San Francisco</td>\n",
       "      <td>CA</td>\n",
       "      <td>San Francisco, CA</td>\n",
       "      <td>37.779281</td>\n",
       "      <td>-122.419236</td>\n",
       "    </tr>\n",
       "  </tbody>\n",
       "</table>\n",
       "</div>"
      ],
      "text/plain": [
       "    abv   ibu    id                                  name  \\\n",
       "21  9.9  92.0  1036                         Lower De Boom   \n",
       "22  7.9  45.0  1024                         Fireside Chat   \n",
       "24  4.4  42.0   876                       Bitter American   \n",
       "25  4.9  17.0   802  Hell or High Watermelon Wheat (2009)   \n",
       "26  4.9  17.0   801  Hell or High Watermelon Wheat (2009)   \n",
       "\n",
       "                      style  brewery_id  ounces            brewery_name  \\\n",
       "21      American Barleywine         368     8.4  21st Amendment Brewery   \n",
       "22            Winter Warmer         368    12.0  21st Amendment Brewery   \n",
       "24  American Pale Ale (APA)         368    12.0  21st Amendment Brewery   \n",
       "25   Fruit / Vegetable Beer         368    12.0  21st Amendment Brewery   \n",
       "26   Fruit / Vegetable Beer         368    12.0  21st Amendment Brewery   \n",
       "\n",
       "             city state         city-state   latitude   longitude  \n",
       "21  San Francisco    CA  San Francisco, CA  37.779281 -122.419236  \n",
       "22  San Francisco    CA  San Francisco, CA  37.779281 -122.419236  \n",
       "24  San Francisco    CA  San Francisco, CA  37.779281 -122.419236  \n",
       "25  San Francisco    CA  San Francisco, CA  37.779281 -122.419236  \n",
       "26  San Francisco    CA  San Francisco, CA  37.779281 -122.419236  "
      ]
     },
     "execution_count": 12,
     "metadata": {},
     "output_type": "execute_result"
    }
   ],
   "source": [
    "ca.head()"
   ]
  },
  {
   "cell_type": "code",
   "execution_count": 13,
   "metadata": {
    "collapsed": false
   },
   "outputs": [
    {
     "name": "stderr",
     "output_type": "stream",
     "text": [
      "/anaconda/lib/python2.7/site-packages/ipykernel/__main__.py:1: SettingWithCopyWarning: \n",
      "A value is trying to be set on a copy of a slice from a DataFrame.\n",
      "Try using .loc[row_indexer,col_indexer] = value instead\n",
      "\n",
      "See the caveats in the documentation: http://pandas.pydata.org/pandas-docs/stable/indexing.html#indexing-view-versus-copy\n",
      "  if __name__ == '__main__':\n"
     ]
    }
   ],
   "source": [
    "ca['norcal'] = ca['latitude'].apply(lambda x: x > 35.791111)"
   ]
  },
  {
   "cell_type": "code",
   "execution_count": 14,
   "metadata": {
    "collapsed": false
   },
   "outputs": [
    {
     "data": {
      "text/plain": [
       "False    76\n",
       "True     59\n",
       "Name: norcal, dtype: int64"
      ]
     },
     "execution_count": 14,
     "metadata": {},
     "output_type": "execute_result"
    }
   ],
   "source": [
    "ca['norcal'].value_counts()"
   ]
  },
  {
   "cell_type": "code",
   "execution_count": 15,
   "metadata": {
    "collapsed": false
   },
   "outputs": [
    {
     "ename": "AttributeError",
     "evalue": "'DataFrame' object has no attribute 'value_counts'",
     "output_type": "error",
     "traceback": [
      "\u001b[0;31m---------------------------------------------------------------------------\u001b[0m",
      "\u001b[0;31mAttributeError\u001b[0m                            Traceback (most recent call last)",
      "\u001b[0;32m<ipython-input-15-96498f87571f>\u001b[0m in \u001b[0;36m<module>\u001b[0;34m()\u001b[0m\n\u001b[0;32m----> 1\u001b[0;31m \u001b[0mca\u001b[0m\u001b[0;34m[\u001b[0m\u001b[0mca\u001b[0m\u001b[0;34m[\u001b[0m\u001b[0;34m'norcal'\u001b[0m\u001b[0;34m]\u001b[0m \u001b[0;34m==\u001b[0m \u001b[0mTrue\u001b[0m\u001b[0;34m]\u001b[0m\u001b[0;34m.\u001b[0m\u001b[0mvalue_counts\u001b[0m\u001b[0;34m(\u001b[0m\u001b[0;34m)\u001b[0m\u001b[0;34m\u001b[0m\u001b[0m\n\u001b[0m",
      "\u001b[0;32m//anaconda/lib/python2.7/site-packages/pandas/core/generic.pyc\u001b[0m in \u001b[0;36m__getattr__\u001b[0;34m(self, name)\u001b[0m\n\u001b[1;32m   2670\u001b[0m             \u001b[0;32mif\u001b[0m \u001b[0mname\u001b[0m \u001b[0;32min\u001b[0m \u001b[0mself\u001b[0m\u001b[0;34m.\u001b[0m\u001b[0m_info_axis\u001b[0m\u001b[0;34m:\u001b[0m\u001b[0;34m\u001b[0m\u001b[0m\n\u001b[1;32m   2671\u001b[0m                 \u001b[0;32mreturn\u001b[0m \u001b[0mself\u001b[0m\u001b[0;34m[\u001b[0m\u001b[0mname\u001b[0m\u001b[0;34m]\u001b[0m\u001b[0;34m\u001b[0m\u001b[0m\n\u001b[0;32m-> 2672\u001b[0;31m             \u001b[0;32mreturn\u001b[0m \u001b[0mobject\u001b[0m\u001b[0;34m.\u001b[0m\u001b[0m__getattribute__\u001b[0m\u001b[0;34m(\u001b[0m\u001b[0mself\u001b[0m\u001b[0;34m,\u001b[0m \u001b[0mname\u001b[0m\u001b[0;34m)\u001b[0m\u001b[0;34m\u001b[0m\u001b[0m\n\u001b[0m\u001b[1;32m   2673\u001b[0m \u001b[0;34m\u001b[0m\u001b[0m\n\u001b[1;32m   2674\u001b[0m     \u001b[0;32mdef\u001b[0m \u001b[0m__setattr__\u001b[0m\u001b[0;34m(\u001b[0m\u001b[0mself\u001b[0m\u001b[0;34m,\u001b[0m \u001b[0mname\u001b[0m\u001b[0;34m,\u001b[0m \u001b[0mvalue\u001b[0m\u001b[0;34m)\u001b[0m\u001b[0;34m:\u001b[0m\u001b[0;34m\u001b[0m\u001b[0m\n",
      "\u001b[0;31mAttributeError\u001b[0m: 'DataFrame' object has no attribute 'value_counts'"
     ]
    }
   ],
   "source": [
    "ca[ca['norcal'] == True].value_counts()"
   ]
  },
  {
   "cell_type": "code",
   "execution_count": 16,
   "metadata": {
    "collapsed": false
   },
   "outputs": [
    {
     "data": {
      "text/plain": [
       "21st Amendment Brewery             17\n",
       "Anderson Valley Brewing Company    14\n",
       "Sierra Nevada Brewing Company       6\n",
       "Ruhstaller Beer Company             5\n",
       "Fort Point Beer Company             4\n",
       "Devil's Canyon Brewery              3\n",
       "Mavericks Beer Company              3\n",
       "Headlands Brewing Company           3\n",
       "Speakasy Ales & Lagers              1\n",
       "Seabright Brewery                   1\n",
       "Armstrong Brewing Company           1\n",
       "Santa Cruz Mountain Brewing         1\n",
       "Name: brewery_name, dtype: int64"
      ]
     },
     "execution_count": 16,
     "metadata": {},
     "output_type": "execute_result"
    }
   ],
   "source": [
    "ca[ca['norcal'] == True]['brewery_name'].value_counts()"
   ]
  },
  {
   "cell_type": "code",
   "execution_count": 17,
   "metadata": {
    "collapsed": false
   },
   "outputs": [
    {
     "data": {
      "text/plain": [
       "Golden Road Brewing                  14\n",
       "Modern Times Beer                     8\n",
       "TailGate Beer                         7\n",
       "Mike Hess Brewing Company             6\n",
       "Manzanita Brewing Company             5\n",
       "Ballast Point Brewing Company         4\n",
       "Saint Archer Brewery                  4\n",
       "Central Coast Brewing Company         4\n",
       "Black Market Brewing Company          4\n",
       "Hess Brewing Company                  3\n",
       "Firestone Walker Brewing Company      3\n",
       "Mission Brewery                       3\n",
       "The Dudes' Brewing Company            3\n",
       "Hangar 24 Craft Brewery               2\n",
       "Figueroa Mountain Brewing Company     2\n",
       "Mother Earth Brew Company             1\n",
       "Refuge Brewery                        1\n",
       "Butcher's Brewing                     1\n",
       "Claremont Craft Ales                  1\n",
       "Name: brewery_name, dtype: int64"
      ]
     },
     "execution_count": 17,
     "metadata": {},
     "output_type": "execute_result"
    }
   ],
   "source": [
    "ca[ca['norcal'] == False]['brewery_name'].value_counts()"
   ]
  },
  {
   "cell_type": "code",
   "execution_count": 18,
   "metadata": {
    "collapsed": true
   },
   "outputs": [],
   "source": [
    "vt = data[data['state'] == 'VT']"
   ]
  },
  {
   "cell_type": "code",
   "execution_count": 19,
   "metadata": {
    "collapsed": false
   },
   "outputs": [
    {
     "data": {
      "text/plain": [
       "Long Trail Brewing Company    5\n",
       "Magic Hat Brewing Company     3\n",
       "Fiddlehead Brewing Company    2\n",
       "The Alchemist                 2\n",
       "Otter Creek Brewing           2\n",
       "Lost Nation Brewing           2\n",
       "The Just Beer Project         1\n",
       "Name: brewery_name, dtype: int64"
      ]
     },
     "execution_count": 19,
     "metadata": {},
     "output_type": "execute_result"
    }
   ],
   "source": [
    "vt['brewery_name'].value_counts()"
   ]
  },
  {
   "cell_type": "code",
   "execution_count": 20,
   "metadata": {
    "collapsed": false
   },
   "outputs": [
    {
     "data": {
      "text/plain": [
       "Heady Topper                   2\n",
       "#9                             2\n",
       "Hodad Porter                   1\n",
       "Overgrown American Pale Ale    1\n",
       "Elder Betty                    1\n",
       "Gose                           1\n",
       "Fresh Slice White IPA          1\n",
       "Vermont Pilsner                1\n",
       "Long Trail Ale                 1\n",
       "Second Fiddle                  1\n",
       "Just IPA                       1\n",
       "Blackbeary Wheat               1\n",
       "Double Bag                     1\n",
       "Long Trail Ale (1)             1\n",
       "Long Trail IPA                 1\n",
       "Name: name, dtype: int64"
      ]
     },
     "execution_count": 20,
     "metadata": {},
     "output_type": "execute_result"
    }
   ],
   "source": [
    "vt['name'].value_counts()"
   ]
  },
  {
   "cell_type": "code",
   "execution_count": 21,
   "metadata": {
    "collapsed": false
   },
   "outputs": [
    {
     "data": {
      "text/html": [
       "<div>\n",
       "<table border=\"1\" class=\"dataframe\">\n",
       "  <thead>\n",
       "    <tr style=\"text-align: right;\">\n",
       "      <th></th>\n",
       "      <th>abv</th>\n",
       "      <th>ibu</th>\n",
       "      <th>id</th>\n",
       "      <th>name</th>\n",
       "      <th>style</th>\n",
       "      <th>brewery_id</th>\n",
       "      <th>ounces</th>\n",
       "      <th>brewery_name</th>\n",
       "      <th>city</th>\n",
       "      <th>state</th>\n",
       "    </tr>\n",
       "  </thead>\n",
       "  <tbody>\n",
       "    <tr>\n",
       "      <th>789</th>\n",
       "      <td>8.2</td>\n",
       "      <td>80.0</td>\n",
       "      <td>1929</td>\n",
       "      <td>Second Fiddle</td>\n",
       "      <td>American Double / Imperial IPA</td>\n",
       "      <td>172</td>\n",
       "      <td>16.0</td>\n",
       "      <td>Fiddlehead Brewing Company</td>\n",
       "      <td>Shelburne</td>\n",
       "      <td>VT</td>\n",
       "    </tr>\n",
       "    <tr>\n",
       "      <th>790</th>\n",
       "      <td>5.5</td>\n",
       "      <td>30.0</td>\n",
       "      <td>1858</td>\n",
       "      <td>Hodad Porter</td>\n",
       "      <td>American Porter</td>\n",
       "      <td>172</td>\n",
       "      <td>16.0</td>\n",
       "      <td>Fiddlehead Brewing Company</td>\n",
       "      <td>Shelburne</td>\n",
       "      <td>VT</td>\n",
       "    </tr>\n",
       "    <tr>\n",
       "      <th>1218</th>\n",
       "      <td>5.9</td>\n",
       "      <td>42.0</td>\n",
       "      <td>1926</td>\n",
       "      <td>Long Trail IPA</td>\n",
       "      <td>English India Pale Ale (IPA)</td>\n",
       "      <td>268</td>\n",
       "      <td>12.0</td>\n",
       "      <td>Long Trail Brewing Company</td>\n",
       "      <td>Bridgewater Corners</td>\n",
       "      <td>VT</td>\n",
       "    </tr>\n",
       "    <tr>\n",
       "      <th>1219</th>\n",
       "      <td>4.6</td>\n",
       "      <td>30.0</td>\n",
       "      <td>1924</td>\n",
       "      <td>Long Trail Ale</td>\n",
       "      <td>American Amber / Red Ale</td>\n",
       "      <td>268</td>\n",
       "      <td>12.0</td>\n",
       "      <td>Long Trail Brewing Company</td>\n",
       "      <td>Bridgewater Corners</td>\n",
       "      <td>VT</td>\n",
       "    </tr>\n",
       "    <tr>\n",
       "      <th>1220</th>\n",
       "      <td>7.2</td>\n",
       "      <td>33.0</td>\n",
       "      <td>1090</td>\n",
       "      <td>Double Bag</td>\n",
       "      <td>Altbier</td>\n",
       "      <td>268</td>\n",
       "      <td>16.0</td>\n",
       "      <td>Long Trail Brewing Company</td>\n",
       "      <td>Bridgewater Corners</td>\n",
       "      <td>VT</td>\n",
       "    </tr>\n",
       "    <tr>\n",
       "      <th>1221</th>\n",
       "      <td>4.0</td>\n",
       "      <td>8.0</td>\n",
       "      <td>574</td>\n",
       "      <td>Blackbeary Wheat</td>\n",
       "      <td>Fruit / Vegetable Beer</td>\n",
       "      <td>268</td>\n",
       "      <td>12.0</td>\n",
       "      <td>Long Trail Brewing Company</td>\n",
       "      <td>Bridgewater Corners</td>\n",
       "      <td>VT</td>\n",
       "    </tr>\n",
       "    <tr>\n",
       "      <th>1222</th>\n",
       "      <td>4.6</td>\n",
       "      <td>30.0</td>\n",
       "      <td>573</td>\n",
       "      <td>Long Trail Ale (1)</td>\n",
       "      <td>Altbier</td>\n",
       "      <td>268</td>\n",
       "      <td>12.0</td>\n",
       "      <td>Long Trail Brewing Company</td>\n",
       "      <td>Bridgewater Corners</td>\n",
       "      <td>VT</td>\n",
       "    </tr>\n",
       "    <tr>\n",
       "      <th>1223</th>\n",
       "      <td>4.6</td>\n",
       "      <td>8.0</td>\n",
       "      <td>2584</td>\n",
       "      <td>Gose</td>\n",
       "      <td>Gose</td>\n",
       "      <td>41</td>\n",
       "      <td>16.0</td>\n",
       "      <td>Lost Nation Brewing</td>\n",
       "      <td>East Fairfield</td>\n",
       "      <td>VT</td>\n",
       "    </tr>\n",
       "    <tr>\n",
       "      <th>1224</th>\n",
       "      <td>4.8</td>\n",
       "      <td>20.0</td>\n",
       "      <td>2583</td>\n",
       "      <td>Vermont Pilsner</td>\n",
       "      <td>German Pilsener</td>\n",
       "      <td>41</td>\n",
       "      <td>16.0</td>\n",
       "      <td>Lost Nation Brewing</td>\n",
       "      <td>East Fairfield</td>\n",
       "      <td>VT</td>\n",
       "    </tr>\n",
       "    <tr>\n",
       "      <th>1252</th>\n",
       "      <td>5.1</td>\n",
       "      <td>20.0</td>\n",
       "      <td>1813</td>\n",
       "      <td>#9</td>\n",
       "      <td>Fruit / Vegetable Beer</td>\n",
       "      <td>303</td>\n",
       "      <td>16.0</td>\n",
       "      <td>Magic Hat Brewing Company</td>\n",
       "      <td>South Burlington</td>\n",
       "      <td>VT</td>\n",
       "    </tr>\n",
       "    <tr>\n",
       "      <th>1253</th>\n",
       "      <td>5.5</td>\n",
       "      <td>13.0</td>\n",
       "      <td>1113</td>\n",
       "      <td>Elder Betty</td>\n",
       "      <td>Hefeweizen</td>\n",
       "      <td>303</td>\n",
       "      <td>12.0</td>\n",
       "      <td>Magic Hat Brewing Company</td>\n",
       "      <td>South Burlington</td>\n",
       "      <td>VT</td>\n",
       "    </tr>\n",
       "    <tr>\n",
       "      <th>1254</th>\n",
       "      <td>5.1</td>\n",
       "      <td>20.0</td>\n",
       "      <td>360</td>\n",
       "      <td>#9</td>\n",
       "      <td>Fruit / Vegetable Beer</td>\n",
       "      <td>303</td>\n",
       "      <td>12.0</td>\n",
       "      <td>Magic Hat Brewing Company</td>\n",
       "      <td>South Burlington</td>\n",
       "      <td>VT</td>\n",
       "    </tr>\n",
       "    <tr>\n",
       "      <th>1603</th>\n",
       "      <td>5.5</td>\n",
       "      <td>45.0</td>\n",
       "      <td>1908</td>\n",
       "      <td>Fresh Slice White IPA</td>\n",
       "      <td>American White IPA</td>\n",
       "      <td>275</td>\n",
       "      <td>12.0</td>\n",
       "      <td>Otter Creek Brewing</td>\n",
       "      <td>Middlebury</td>\n",
       "      <td>VT</td>\n",
       "    </tr>\n",
       "    <tr>\n",
       "      <th>1604</th>\n",
       "      <td>5.5</td>\n",
       "      <td>55.0</td>\n",
       "      <td>1946</td>\n",
       "      <td>Overgrown American Pale Ale</td>\n",
       "      <td>American Pale Ale (APA)</td>\n",
       "      <td>261</td>\n",
       "      <td>12.0</td>\n",
       "      <td>Otter Creek Brewing</td>\n",
       "      <td>Waterbury</td>\n",
       "      <td>VT</td>\n",
       "    </tr>\n",
       "    <tr>\n",
       "      <th>2144</th>\n",
       "      <td>8.0</td>\n",
       "      <td>120.0</td>\n",
       "      <td>1111</td>\n",
       "      <td>Heady Topper</td>\n",
       "      <td>American Double / Imperial IPA</td>\n",
       "      <td>272</td>\n",
       "      <td>16.0</td>\n",
       "      <td>The Alchemist</td>\n",
       "      <td>Waterbury</td>\n",
       "      <td>VT</td>\n",
       "    </tr>\n",
       "    <tr>\n",
       "      <th>2145</th>\n",
       "      <td>8.0</td>\n",
       "      <td>120.0</td>\n",
       "      <td>379</td>\n",
       "      <td>Heady Topper</td>\n",
       "      <td>American Double / Imperial IPA</td>\n",
       "      <td>272</td>\n",
       "      <td>16.0</td>\n",
       "      <td>The Alchemist</td>\n",
       "      <td>Waterbury</td>\n",
       "      <td>VT</td>\n",
       "    </tr>\n",
       "    <tr>\n",
       "      <th>2161</th>\n",
       "      <td>4.6</td>\n",
       "      <td>45.0</td>\n",
       "      <td>1749</td>\n",
       "      <td>Just IPA</td>\n",
       "      <td>American IPA</td>\n",
       "      <td>328</td>\n",
       "      <td>12.0</td>\n",
       "      <td>The Just Beer Project</td>\n",
       "      <td>Burlington</td>\n",
       "      <td>VT</td>\n",
       "    </tr>\n",
       "  </tbody>\n",
       "</table>\n",
       "</div>"
      ],
      "text/plain": [
       "      abv    ibu    id                         name  \\\n",
       "789   8.2   80.0  1929                Second Fiddle   \n",
       "790   5.5   30.0  1858                 Hodad Porter   \n",
       "1218  5.9   42.0  1926               Long Trail IPA   \n",
       "1219  4.6   30.0  1924               Long Trail Ale   \n",
       "1220  7.2   33.0  1090                   Double Bag   \n",
       "1221  4.0    8.0   574             Blackbeary Wheat   \n",
       "1222  4.6   30.0   573           Long Trail Ale (1)   \n",
       "1223  4.6    8.0  2584                         Gose   \n",
       "1224  4.8   20.0  2583              Vermont Pilsner   \n",
       "1252  5.1   20.0  1813                           #9   \n",
       "1253  5.5   13.0  1113                  Elder Betty   \n",
       "1254  5.1   20.0   360                           #9   \n",
       "1603  5.5   45.0  1908        Fresh Slice White IPA   \n",
       "1604  5.5   55.0  1946  Overgrown American Pale Ale   \n",
       "2144  8.0  120.0  1111                 Heady Topper   \n",
       "2145  8.0  120.0   379                 Heady Topper   \n",
       "2161  4.6   45.0  1749                     Just IPA   \n",
       "\n",
       "                               style  brewery_id  ounces  \\\n",
       "789   American Double / Imperial IPA         172    16.0   \n",
       "790                  American Porter         172    16.0   \n",
       "1218    English India Pale Ale (IPA)         268    12.0   \n",
       "1219        American Amber / Red Ale         268    12.0   \n",
       "1220                         Altbier         268    16.0   \n",
       "1221          Fruit / Vegetable Beer         268    12.0   \n",
       "1222                         Altbier         268    12.0   \n",
       "1223                            Gose          41    16.0   \n",
       "1224                 German Pilsener          41    16.0   \n",
       "1252          Fruit / Vegetable Beer         303    16.0   \n",
       "1253                      Hefeweizen         303    12.0   \n",
       "1254          Fruit / Vegetable Beer         303    12.0   \n",
       "1603              American White IPA         275    12.0   \n",
       "1604         American Pale Ale (APA)         261    12.0   \n",
       "2144  American Double / Imperial IPA         272    16.0   \n",
       "2145  American Double / Imperial IPA         272    16.0   \n",
       "2161                    American IPA         328    12.0   \n",
       "\n",
       "                    brewery_name                 city state  \n",
       "789   Fiddlehead Brewing Company            Shelburne    VT  \n",
       "790   Fiddlehead Brewing Company            Shelburne    VT  \n",
       "1218  Long Trail Brewing Company  Bridgewater Corners    VT  \n",
       "1219  Long Trail Brewing Company  Bridgewater Corners    VT  \n",
       "1220  Long Trail Brewing Company  Bridgewater Corners    VT  \n",
       "1221  Long Trail Brewing Company  Bridgewater Corners    VT  \n",
       "1222  Long Trail Brewing Company  Bridgewater Corners    VT  \n",
       "1223         Lost Nation Brewing       East Fairfield    VT  \n",
       "1224         Lost Nation Brewing       East Fairfield    VT  \n",
       "1252   Magic Hat Brewing Company     South Burlington    VT  \n",
       "1253   Magic Hat Brewing Company     South Burlington    VT  \n",
       "1254   Magic Hat Brewing Company     South Burlington    VT  \n",
       "1603         Otter Creek Brewing           Middlebury    VT  \n",
       "1604         Otter Creek Brewing            Waterbury    VT  \n",
       "2144               The Alchemist            Waterbury    VT  \n",
       "2145               The Alchemist            Waterbury    VT  \n",
       "2161       The Just Beer Project           Burlington    VT  "
      ]
     },
     "execution_count": 21,
     "metadata": {},
     "output_type": "execute_result"
    }
   ],
   "source": [
    "vt"
   ]
  },
  {
   "cell_type": "code",
   "execution_count": 22,
   "metadata": {
    "collapsed": true
   },
   "outputs": [],
   "source": [
    "ca.to_csv(\"ca-data.csv\")"
   ]
  },
  {
   "cell_type": "code",
   "execution_count": null,
   "metadata": {
    "collapsed": true
   },
   "outputs": [],
   "source": []
  }
 ],
 "metadata": {
  "anaconda-cloud": {},
  "kernelspec": {
   "display_name": "Python with Pixiedust (Spark 2.1)",
   "language": "python",
   "name": "pythonwithpixiedustspark21"
  },
  "language_info": {
   "codemirror_mode": {
    "name": "ipython",
    "version": 2
   },
   "file_extension": ".py",
   "mimetype": "text/x-python",
   "name": "python",
   "nbconvert_exporter": "python",
   "pygments_lexer": "ipython2",
   "version": "2.7.12"
  }
 },
 "nbformat": 4,
 "nbformat_minor": 0
}
