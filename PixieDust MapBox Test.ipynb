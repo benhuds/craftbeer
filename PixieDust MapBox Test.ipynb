{
 "cells": [
  {
   "cell_type": "code",
   "execution_count": 5,
   "metadata": {
    "collapsed": false
   },
   "outputs": [
    {
     "name": "stdout",
     "output_type": "stream",
     "text": [
      "Downloading 'https://raw.githubusercontent.com/benhuds/craftbeer-data/master/ca-data.csv?token=AC-hiLTrSaF8UQGwKUvFCas6KJ3UycCDks5YwcS-wA%3D%3D' from https://raw.githubusercontent.com/benhuds/craftbeer-data/master/ca-data.csv?token=AC-hiLTrSaF8UQGwKUvFCas6KJ3UycCDks5YwcS-wA%3D%3D\n"
     ]
    },
    {
     "data": {
      "text/html": [
       "\n",
       "                <div>\n",
       "                    <span id=\"pm_label9ab92a2f\">Starting download...</span>\n",
       "                    <progress id=\"pm_progress9ab92a2f\" max=\"100\" value=\"0\" style=\"width:200px\"></progress>\n",
       "                </div>"
      ],
      "text/plain": [
       "<IPython.core.display.HTML object>"
      ]
     },
     "metadata": {},
     "output_type": "display_data"
    },
    {
     "data": {
      "application/javascript": [
       "\n",
       "                    $(\"#pm_label9ab92a2f\").text(\"Downloaded 8192 of 19996 bytes\");\n",
       "                    $(\"#pm_progress9ab92a2f\").attr(\"value\", 40.97);\n",
       "                "
      ],
      "text/plain": [
       "<IPython.core.display.Javascript object>"
      ]
     },
     "metadata": {},
     "output_type": "display_data"
    },
    {
     "data": {
      "application/javascript": [
       "\n",
       "                    $(\"#pm_label9ab92a2f\").text(\"Downloaded 16384 of 19996 bytes\");\n",
       "                    $(\"#pm_progress9ab92a2f\").attr(\"value\", 81.94);\n",
       "                "
      ],
      "text/plain": [
       "<IPython.core.display.Javascript object>"
      ]
     },
     "metadata": {},
     "output_type": "display_data"
    },
    {
     "data": {
      "application/javascript": [
       "\n",
       "                    $(\"#pm_label9ab92a2f\").text(\"Downloaded 19996 of 19996 bytes\");\n",
       "                    $(\"#pm_progress9ab92a2f\").attr(\"value\", 100.0);\n",
       "                "
      ],
      "text/plain": [
       "<IPython.core.display.Javascript object>"
      ]
     },
     "metadata": {},
     "output_type": "display_data"
    },
    {
     "name": "stdout",
     "output_type": "stream",
     "text": [
      "Creating pySpark DataFrame for 'https://raw.githubusercontent.com/benhuds/craftbeer-data/master/ca-data.csv?token=AC-hiLTrSaF8UQGwKUvFCas6KJ3UycCDks5YwcS-wA%3D%3D'. Please wait...\n",
      "Successfully created pySpark DataFrame for 'https://raw.githubusercontent.com/benhuds/craftbeer-data/master/ca-data.csv?token=AC-hiLTrSaF8UQGwKUvFCas6KJ3UycCDks5YwcS-wA%3D%3D'\n"
     ]
    }
   ],
   "source": [
    "import pixiedust\n",
    "\n",
    "df = pixiedust.sampleData(\"https://raw.githubusercontent.com/benhuds/craftbeer-data/master/ca-data.csv?token=AC-hiLTrSaF8UQGwKUvFCas6KJ3UycCDks5YwcS-wA%3D%3D\")"
   ]
  },
  {
   "cell_type": "code",
   "execution_count": 4,
   "metadata": {
    "collapsed": false,
    "pixiedust": {
     "displayParams": {
      "aggregation": "SUM",
      "handlerId": "mapView",
      "keyFields": "latitude,longitude",
      "kind": "densitymap",
      "mapboxtoken": "pk.eyJ1IjoiYmVuaHVkcyIsImEiOiJjaXpzdzJpczkwMDEyMnhvOXdoczY2dXF5In0.Ud3az0JTpHTDM6bBpefsKA",
      "rowCount": "150",
      "valueFields": "ibu"
     }
    }
   },
   "outputs": [
    {
     "data": {
      "text/html": [
       "<style type=\"text/css\">.pd_warning{display:none;}</style><div class=\"pd_warning\"><em>Hey, there's something awesome here! To see it, open this notebook outside GitHub, in a viewer like Jupyter</em></div>"
      ],
      "text/plain": [
       "<IPython.core.display.HTML object>"
      ]
     },
     "metadata": {},
     "output_type": "display_data"
    }
   ],
   "source": [
    "display(df)\n",
    "\n",
    "# select Map -> Mapbox\n",
    "# kind = densitymap\n",
    "# keys = latitude, longitude\n",
    "# values = ibu"
   ]
  },
  {
   "cell_type": "code",
   "execution_count": null,
   "metadata": {
    "collapsed": true
   },
   "outputs": [],
   "source": []
  }
 ],
 "metadata": {
  "anaconda-cloud": {},
  "kernelspec": {
   "display_name": "Python with Pixiedust (Spark 1.6)",
   "language": "python",
   "name": "pythonwithpixiedustspark16"
  },
  "language_info": {
   "codemirror_mode": {
    "name": "ipython",
    "version": 2
   },
   "file_extension": ".py",
   "mimetype": "text/x-python",
   "name": "python",
   "nbconvert_exporter": "python",
   "pygments_lexer": "ipython2",
   "version": "2.7.12"
  }
 },
 "nbformat": 4,
 "nbformat_minor": 0
}
