{
 "cells": [
  {
   "cell_type": "code",
   "execution_count": 1,
   "metadata": {
    "collapsed": false
   },
   "outputs": [
    {
     "name": "stdout",
     "output_type": "stream",
     "text": [
      "Pixiedust database opened successfully\n"
     ]
    },
    {
     "data": {
      "text/html": [
       "\n",
       "        <div style=\"margin:10px\">\n",
       "            <a href=\"https://github.com/ibm-cds-labs/pixiedust\" target=\"_new\">\n",
       "                <img src=\"https://github.com/ibm-cds-labs/pixiedust/raw/master/docs/_static/pd_icon32.png\" style=\"float:left;margin-right:10px\"/>\n",
       "            </a>\n",
       "            <span>Pixiedust version 0.86</span>\n",
       "        </div>\n",
       "        "
      ],
      "text/plain": [
       "<IPython.core.display.HTML object>"
      ]
     },
     "metadata": {},
     "output_type": "display_data"
    },
    {
     "name": "stdout",
     "output_type": "stream",
     "text": [
      "Downloading 'https://raw.githubusercontent.com/benhuds/craftbeer-data/master/ca-data.csv?token=AC-hiLTrSaF8UQGwKUvFCas6KJ3UycCDks5YwcS-wA%3D%3D' from https://raw.githubusercontent.com/benhuds/craftbeer-data/master/ca-data.csv?token=AC-hiLTrSaF8UQGwKUvFCas6KJ3UycCDks5YwcS-wA%3D%3D\n"
     ]
    },
    {
     "data": {
      "text/html": [
       "\n",
       "                <div>\n",
       "                    <span id=\"pm_label39a25ee8\">Starting download...</span>\n",
       "                    <progress id=\"pm_progress39a25ee8\" max=\"100\" value=\"0\" style=\"width:200px\"></progress>\n",
       "                </div>"
      ],
      "text/plain": [
       "<IPython.core.display.HTML object>"
      ]
     },
     "metadata": {},
     "output_type": "display_data"
    },
    {
     "data": {
      "application/javascript": [
       "\n",
       "                    $(\"#pm_label39a25ee8\").text(\"Downloaded 8192 of 19996 bytes\");\n",
       "                    $(\"#pm_progress39a25ee8\").attr(\"value\", 40.97);\n",
       "                "
      ],
      "text/plain": [
       "<IPython.core.display.Javascript object>"
      ]
     },
     "metadata": {},
     "output_type": "display_data"
    },
    {
     "data": {
      "application/javascript": [
       "\n",
       "                    $(\"#pm_label39a25ee8\").text(\"Downloaded 16384 of 19996 bytes\");\n",
       "                    $(\"#pm_progress39a25ee8\").attr(\"value\", 81.94);\n",
       "                "
      ],
      "text/plain": [
       "<IPython.core.display.Javascript object>"
      ]
     },
     "metadata": {},
     "output_type": "display_data"
    },
    {
     "data": {
      "application/javascript": [
       "\n",
       "                    $(\"#pm_label39a25ee8\").text(\"Downloaded 19996 of 19996 bytes\");\n",
       "                    $(\"#pm_progress39a25ee8\").attr(\"value\", 100.0);\n",
       "                "
      ],
      "text/plain": [
       "<IPython.core.display.Javascript object>"
      ]
     },
     "metadata": {},
     "output_type": "display_data"
    },
    {
     "name": "stdout",
     "output_type": "stream",
     "text": [
      "Creating pySpark DataFrame for 'https://raw.githubusercontent.com/benhuds/craftbeer-data/master/ca-data.csv?token=AC-hiLTrSaF8UQGwKUvFCas6KJ3UycCDks5YwcS-wA%3D%3D'. Please wait...\n",
      "Successfully created pySpark DataFrame for 'https://raw.githubusercontent.com/benhuds/craftbeer-data/master/ca-data.csv?token=AC-hiLTrSaF8UQGwKUvFCas6KJ3UycCDks5YwcS-wA%3D%3D'\n"
     ]
    }
   ],
   "source": [
    "import pixiedust\n",
    "\n",
    "df = pixiedust.sampleData(\"https://raw.githubusercontent.com/benhuds/craftbeer-data/master/ca-data.csv?token=AC-hiLTrSaF8UQGwKUvFCas6KJ3UycCDks5YwcS-wA%3D%3D\")"
   ]
  },
  {
   "cell_type": "code",
   "execution_count": 2,
   "metadata": {
    "collapsed": false,
    "pixiedust": {
     "displayParams": {
      "aggregation": "SUM",
      "handlerId": "mapView",
      "keyFields": "latitude,longitude",
      "kind": "densitymap",
      "mapboxtoken": "pk.eyJ1IjoiYmVuaHVkcyIsImEiOiJjaXpzdzJpczkwMDEyMnhvOXdoczY2dXF5In0.Ud3az0JTpHTDM6bBpefsKA",
      "rowCount": "150",
      "valueFields": "ibu"
     }
    }
   },
   "outputs": [
    {
     "data": {
      "text/html": [
       "<style type=\"text/css\">.pd_warning{display:none;}</style><div class=\"pd_warning\"><em>Hey, there's something awesome here! To see it, open this notebook outside GitHub, in a viewer like Jupyter</em></div><div id=\"chartFigure80bba4d6\" class=\"pd_save is-viewer-good\" style=\"overflow-x:auto\">\n",
       "            <h1 style=\"padding:0 0 8px 0\">PixieDust map with Mapbox</h1>\n",
       "\n",
       "<iframe style=\"width:784px;height:416px\" srcdoc=\"<html><head><script src=&quot;https://api.tiles.mapbox.com/mapbox-gl-js/v0.32.1/mapbox-gl.js&quot;></script><link href=&quot;https://api.tiles.mapbox.com/mapbox-gl-js/v0.32.1/mapbox-gl.css&quot; rel=&quot;stylesheet&quot; /><style>.mapboxgl-popup {    max-width: 200px;}#map canvas {    cursor: crosshair;}.legend {    background-color: rgba(255,255,255, 0.75);    border-radius: 3px;    position: absolute;    right: 14px;    top: 14px;    box-shadow: 0 1px 2px rgba(0,0,0,0.10);    font-size: 12px;    line-height: 18px;    padding: 10px;    z-index: 1;}.legend h4 {    margin: 0 0 10px;}.legend div span {    border-radius: 50%;    display: inline-block;    height: 10px;    margin-right: 5px;    width: 10px;}body { background-color:#333; margin:0px !important; overflow: hidden;font-family: &quot;Helvetica Neue&quot;, Arial, Helvetica, sans-serif;}</style></head><body><div id=&quot;map80bba4d6&quot; style=&quot;width:780px;height:412px;&quot; ></div><script>    window.maploadtime = 1;    mapboxgl.accessToken=&quot;pk.eyJ1IjoiYmVuaHVkcyIsImEiOiJjaXpzdzJpczkwMDEyMnhvOXdoczY2dXF5In0.Ud3az0JTpHTDM6bBpefsKA&quot;;    var map = new mapboxgl.Map({        container: &quot;map80bba4d6&quot;,        style: &quot;mapbox://styles/mapbox/light-v9&quot;    });    var popup = new mapboxgl.Popup({closeButton: false,closeOnClick: true});        map.on(&quot;mousemove&quot;, function (e) {        var fs = map.queryRenderedFeatures(e.point,{layers:[&quot;pxlayer&quot;]});        map.getCanvas().style.cursor=(fs.length)?&quot;pointer&quot;:&quot;&quot;;        if (!fs.length) {popup.remove();return;};        var f = fs[0];        var keylength = Object.keys(f.properties).length;        popuphtml = &quot;&quot;;        for (var key in f.properties) {            popuphtml += &quot;<b>&quot;+key+&quot;: </b> &quot;+f.properties[key]+&quot;<br/>&quot;        }        popup.setLngLat(f.geometry.coordinates).setHTML(popuphtml).addTo(map);    });            map.on(&quot;load&quot;, function() {        var mapdata={&quot;type&quot;: &quot;FeatureCollection&quot;, &quot;features&quot;: [{&quot;geometry&quot;: {&quot;type&quot;: &quot;Point&quot;, &quot;coordinates&quot;: [-117.1627713, 32.7174209]}, &quot;type&quot;: &quot;Feature&quot;, &quot;properties&quot;: {&quot;ibu&quot;: 1897.0}}, {&quot;geometry&quot;: {&quot;type&quot;: &quot;Point&quot;, &quot;coordinates&quot;: [-116.9739166, 32.838382799999998]}, &quot;type&quot;: &quot;Feature&quot;, &quot;properties&quot;: {&quot;ibu&quot;: 299.0}}, {&quot;geometry&quot;: {&quot;type&quot;: &quot;Point&quot;, &quot;coordinates&quot;: [-117.3505938, 33.158093299999997]}, &quot;type&quot;: &quot;Feature&quot;, &quot;properties&quot;: {&quot;ibu&quot;: 36.0}}, {&quot;geometry&quot;: {&quot;type&quot;: &quot;Point&quot;, &quot;coordinates&quot;: [-117.24253539999999, 33.200036799999999]}, &quot;type&quot;: &quot;Feature&quot;, &quot;properties&quot;: {&quot;ibu&quot;: 21.0}}, {&quot;geometry&quot;: {&quot;type&quot;: &quot;Point&quot;, &quot;coordinates&quot;: [-117.14736600000001, 33.494635299999999]}, &quot;type&quot;: &quot;Feature&quot;, &quot;properties&quot;: {&quot;ibu&quot;: 119.0}}, {&quot;geometry&quot;: {&quot;type&quot;: &quot;Point&quot;, &quot;coordinates&quot;: [-118.3406287, 33.835849199999998]}, &quot;type&quot;: &quot;Feature&quot;, &quot;properties&quot;: {&quot;ibu&quot;: 170.0}}, {&quot;geometry&quot;: {&quot;type&quot;: &quot;Point&quot;, &quot;coordinates&quot;: [-118.2444759, 34.054935]}, &quot;type&quot;: &quot;Feature&quot;, &quot;properties&quot;: {&quot;ibu&quot;: 781.0}}, {&quot;geometry&quot;: {&quot;type&quot;: &quot;Point&quot;, &quot;coordinates&quot;: [-117.099505579, 34.070719500000003]}, &quot;type&quot;: &quot;Feature&quot;, &quot;properties&quot;: {&quot;ibu&quot;: 31.0}}, {&quot;geometry&quot;: {&quot;type&quot;: &quot;Point&quot;, &quot;coordinates&quot;: [-117.7197784, 34.0966764]}, &quot;type&quot;: &quot;Feature&quot;, &quot;properties&quot;: {&quot;ibu&quot;: 60.0}}, {&quot;geometry&quot;: {&quot;type&quot;: &quot;Point&quot;, &quot;coordinates&quot;: [-120.19366909999999, 34.613472700000003]}, &quot;type&quot;: &quot;Feature&quot;, &quot;properties&quot;: {&quot;ibu&quot;: 65.0}}, {&quot;geometry&quot;: {&quot;type&quot;: &quot;Point&quot;, &quot;coordinates&quot;: [-120.6596155, 35.282752500000001]}, &quot;type&quot;: &quot;Feature&quot;, &quot;properties&quot;: {&quot;ibu&quot;: 276.0}}, {&quot;geometry&quot;: {&quot;type&quot;: &quot;Point&quot;, &quot;coordinates&quot;: [-120.69124549999999, 35.626765399999996]}, &quot;type&quot;: &quot;Feature&quot;, &quot;properties&quot;: {&quot;ibu&quot;: 142.0}}, {&quot;geometry&quot;: {&quot;type&quot;: &quot;Point&quot;, &quot;coordinates&quot;: [-122.0260569, 36.973590299999998]}, &quot;type&quot;: &quot;Feature&quot;, &quot;properties&quot;: {&quot;ibu&quot;: 148.0}}, {&quot;geometry&quot;: {&quot;type&quot;: &quot;Point&quot;, &quot;coordinates&quot;: [-122.4285861, 37.463551899999999]}, &quot;type&quot;: &quot;Feature&quot;, &quot;properties&quot;: {&quot;ibu&quot;: 108.0}}, {&quot;geometry&quot;: {&quot;type&quot;: &quot;Point&quot;, &quot;coordinates&quot;: [-122.2758007, 37.520214500000002]}, &quot;type&quot;: &quot;Feature&quot;, &quot;properties&quot;: {&quot;ibu&quot;: 124.0}}, {&quot;geometry&quot;: {&quot;type&quot;: &quot;Point&quot;, &quot;coordinates&quot;: [-122.408125, 37.654949299999998]}, &quot;type&quot;: &quot;Feature&quot;, &quot;properties&quot;: {&quot;ibu&quot;: 10.0}}, {&quot;geometry&quot;: {&quot;type&quot;: &quot;Point&quot;, &quot;coordinates&quot;: [-122.4192362, 37.779280800000002]}, &quot;type&quot;: &quot;Feature&quot;, &quot;properties&quot;: {&quot;ibu&quot;: 984.0}}, {&quot;geometry&quot;: {&quot;type&quot;: &quot;Point&quot;, &quot;coordinates&quot;: [-122.54497619999999, 37.906036800000003]}, &quot;type&quot;: &quot;Feature&quot;, &quot;properties&quot;: {&quot;ibu&quot;: 182.0}}, {&quot;geometry&quot;: {&quot;type&quot;: &quot;Point&quot;, &quot;coordinates&quot;: [-121.4943995, 38.5815719]}, &quot;type&quot;: &quot;Feature&quot;, &quot;properties&quot;: {&quot;ibu&quot;: 222.0}}, {&quot;geometry&quot;: {&quot;type&quot;: &quot;Point&quot;, &quot;coordinates&quot;: [-123.366111, 39.009166700000002]}, &quot;type&quot;: &quot;Feature&quot;, &quot;properties&quot;: {&quot;ibu&quot;: 315.0}}, {&quot;geometry&quot;: {&quot;type&quot;: &quot;Point&quot;, &quot;coordinates&quot;: [-121.8374776, 39.728494499999996]}, &quot;type&quot;: &quot;Feature&quot;, &quot;properties&quot;: {&quot;ibu&quot;: 258.0}}]};                map.addSource(&quot;pxdatasource&quot;, {            &quot;type&quot;:&quot;geojson&quot;,            &quot;data&quot;:mapdata,            &quot;cluster&quot;: true,             &quot;clusterMaxZoom&quot;: 11,             &quot;clusterRadius&quot;: 20        });        var layers = [];                layers.push([10.0, &quot;#ffffcc&quot;]);                layers.push([65.0, &quot;#a1dab4&quot;]);                layers.push([148.0, &quot;#41b6c4&quot;]);                layers.push([276.0, &quot;#2c7fb8&quot;]);                layers.push([1897.0, &quot;#253494&quot;]);                layers.forEach(function(layer,i) {            map.addLayer({                &quot;id&quot;: &quot;cluster-&quot; + i,                 &quot;type&quot;: &quot;circle&quot;,                 &quot;source&quot;: &quot;pxdatasource&quot;,                 &quot;paint&quot;: {                    &quot;circle-color&quot;: layer[1],                    &quot;circle-radius&quot;: 70,                     &quot;circle-blur&quot;: 1                },                 &quot;filter&quot;: i === layers.length-1 ? [&quot;>=&quot;, &quot;ibu&quot;, layer[0]] :                     [&quot;all&quot;, [&quot;>=&quot;, &quot;ibu&quot;, layer[0]], [&quot;<&quot;, &quot;ibu&quot;, layers[i+1][0]]]            }, &quot;waterway-label&quot;);        });                map.addLayer({            &quot;id&quot;: &quot;pxlayer&quot;,             &quot;type&quot;: &quot;circle&quot;,             &quot;source&quot;: &quot;pxdatasource&quot;,             &quot;paint&quot;: {                &quot;circle-color&quot;: &quot;rgba(0,255,0,0.5)&quot;,                 &quot;circle-radius&quot;: 20,                 &quot;circle-blur&quot;: 1            },             &quot;filter&quot;: [&quot;!=&quot;, &quot;cluster&quot;, true]        }, &quot;waterway-label&quot;);                map.fitBounds([[-123.366111, 32.7174209], [-116.9739166, 39.728494499999996]]);    });</script></body></html>\"></iframe>\n",
       "        </div>"
      ],
      "text/plain": [
       "<IPython.core.display.HTML object>"
      ]
     },
     "metadata": {},
     "output_type": "display_data"
    }
   ],
   "source": [
    "display(df)\n",
    "\n",
    "# select Map -> Mapbox\n",
    "# kind = densitymap\n",
    "# keys = latitude, longitude\n",
    "# values = ibu"
   ]
  },
  {
   "cell_type": "code",
   "execution_count": null,
   "metadata": {
    "collapsed": true
   },
   "outputs": [],
   "source": []
  }
 ],
 "metadata": {
  "anaconda-cloud": {},
  "kernelspec": {
   "display_name": "Python with Pixiedust (Spark 1.6)",
   "language": "python",
   "name": "pythonwithpixiedustspark16"
  },
  "language_info": {
   "codemirror_mode": {
    "name": "ipython",
    "version": 2
   },
   "file_extension": ".py",
   "mimetype": "text/x-python",
   "name": "python",
   "nbconvert_exporter": "python",
   "pygments_lexer": "ipython2",
   "version": "2.7.12"
  }
 },
 "nbformat": 4,
 "nbformat_minor": 0
}
